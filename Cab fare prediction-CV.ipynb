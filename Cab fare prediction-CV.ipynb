{
 "cells": [
  {
   "cell_type": "markdown",
   "metadata": {},
   "source": [
    "# Bike Rent Count Prediction"
   ]
  },
  {
   "cell_type": "markdown",
   "metadata": {},
   "source": [
    "#### Problem Statement​ -\n",
    "You are a cab rental start-up company. You have successfully run the pilot project and\n",
    "now want to launch your cab service across the country. You have collected the\n",
    "historical data from your pilot project and now have a requirement to apply analytics for\n",
    "fare prediction. You need to design a system that predicts the fare amount for a cab ride\n",
    "in the city.\n",
    "\n",
    "#### Number of attributes:\n",
    "- pickup_datetime - timestamp value indicating when the cab ride started.\n",
    "- pickup_longitude - float for longitude coordinate of where the cab ride started.\n",
    "- pickup_latitude - float for latitude coordinate of where the cab ride started.\n",
    "- dropoff_longitude - float for longitude coordinate of where the cab ride ended.\n",
    "- dropoff_latitude - float for latitude coordinate of where the cab ride ended.\n",
    "- passenger_count - an integer indicating the number of passengers in the cab\n",
    "  ride.\n",
    "  \n",
    "#### Solution​ -\n",
    "The problem is of regression type so we will be building a regression model after performing required preprocessing steps on given dataset."
   ]
  },
  {
   "cell_type": "code",
   "execution_count": 1,
   "metadata": {},
   "outputs": [
    {
     "name": "stderr",
     "output_type": "stream",
     "text": [
      "Using TensorFlow backend.\n"
     ]
    }
   ],
   "source": [
    "#Load libraries\n",
    "import os\n",
    "import pandas as pd\n",
    "import pandas_profiling\n",
    "import numpy as np\n",
    "from fancyimpute import KNN   \n",
    "import matplotlib.pyplot as plt\n",
    "from scipy.stats import chi2_contingency\n",
    "import seaborn as sns\n",
    "from random import randrange, uniform"
   ]
  },
  {
   "cell_type": "code",
   "execution_count": 3,
   "metadata": {},
   "outputs": [],
   "source": [
    "# Set the directory\n",
    "os.chdir(\"D:\\Google Cloud Storage\\Python Work Bench\")\n",
    "\n",
    "# View untruncated panda dataframe\n",
    "pd.set_option('display.max_columns', 30)\n",
    "\n",
    "# View untruncated numpy array\n",
    "np.set_printoptions(threshold = np.inf)"
   ]
  },
  {
   "cell_type": "code",
   "execution_count": 156,
   "metadata": {
    "scrolled": true
   },
   "outputs": [
    {
     "data": {
      "text/html": [
       "<div>\n",
       "<style scoped>\n",
       "    .dataframe tbody tr th:only-of-type {\n",
       "        vertical-align: middle;\n",
       "    }\n",
       "\n",
       "    .dataframe tbody tr th {\n",
       "        vertical-align: top;\n",
       "    }\n",
       "\n",
       "    .dataframe thead th {\n",
       "        text-align: right;\n",
       "    }\n",
       "</style>\n",
       "<table border=\"1\" class=\"dataframe\">\n",
       "  <thead>\n",
       "    <tr style=\"text-align: right;\">\n",
       "      <th></th>\n",
       "      <th>fare_amount</th>\n",
       "      <th>pickup_datetime</th>\n",
       "      <th>pickup_longitude</th>\n",
       "      <th>pickup_latitude</th>\n",
       "      <th>dropoff_longitude</th>\n",
       "      <th>dropoff_latitude</th>\n",
       "      <th>passenger_count</th>\n",
       "    </tr>\n",
       "  </thead>\n",
       "  <tbody>\n",
       "    <tr>\n",
       "      <th>0</th>\n",
       "      <td>4.5</td>\n",
       "      <td>2009-06-15 17:26:21 UTC</td>\n",
       "      <td>-73.844311</td>\n",
       "      <td>40.721319</td>\n",
       "      <td>-73.841610</td>\n",
       "      <td>40.712278</td>\n",
       "      <td>1.0</td>\n",
       "    </tr>\n",
       "    <tr>\n",
       "      <th>1</th>\n",
       "      <td>16.9</td>\n",
       "      <td>2010-01-05 16:52:16 UTC</td>\n",
       "      <td>-74.016048</td>\n",
       "      <td>40.711303</td>\n",
       "      <td>-73.979268</td>\n",
       "      <td>40.782004</td>\n",
       "      <td>1.0</td>\n",
       "    </tr>\n",
       "    <tr>\n",
       "      <th>2</th>\n",
       "      <td>5.7</td>\n",
       "      <td>2011-08-18 00:35:00 UTC</td>\n",
       "      <td>-73.982738</td>\n",
       "      <td>40.761270</td>\n",
       "      <td>-73.991242</td>\n",
       "      <td>40.750562</td>\n",
       "      <td>2.0</td>\n",
       "    </tr>\n",
       "    <tr>\n",
       "      <th>3</th>\n",
       "      <td>7.7</td>\n",
       "      <td>2012-04-21 04:30:42 UTC</td>\n",
       "      <td>-73.987130</td>\n",
       "      <td>40.733143</td>\n",
       "      <td>-73.991567</td>\n",
       "      <td>40.758092</td>\n",
       "      <td>1.0</td>\n",
       "    </tr>\n",
       "    <tr>\n",
       "      <th>4</th>\n",
       "      <td>5.3</td>\n",
       "      <td>2010-03-09 07:51:00 UTC</td>\n",
       "      <td>-73.968095</td>\n",
       "      <td>40.768008</td>\n",
       "      <td>-73.956655</td>\n",
       "      <td>40.783762</td>\n",
       "      <td>1.0</td>\n",
       "    </tr>\n",
       "    <tr>\n",
       "      <th>5</th>\n",
       "      <td>12.1</td>\n",
       "      <td>2011-01-06 09:50:45 UTC</td>\n",
       "      <td>-74.000964</td>\n",
       "      <td>40.731630</td>\n",
       "      <td>-73.972892</td>\n",
       "      <td>40.758233</td>\n",
       "      <td>1.0</td>\n",
       "    </tr>\n",
       "    <tr>\n",
       "      <th>6</th>\n",
       "      <td>7.5</td>\n",
       "      <td>2012-11-20 20:35:00 UTC</td>\n",
       "      <td>-73.980002</td>\n",
       "      <td>40.751662</td>\n",
       "      <td>-73.973802</td>\n",
       "      <td>40.764842</td>\n",
       "      <td>1.0</td>\n",
       "    </tr>\n",
       "    <tr>\n",
       "      <th>7</th>\n",
       "      <td>16.5</td>\n",
       "      <td>2012-01-04 17:22:00 UTC</td>\n",
       "      <td>-73.951300</td>\n",
       "      <td>40.774138</td>\n",
       "      <td>-73.990095</td>\n",
       "      <td>40.751048</td>\n",
       "      <td>1.0</td>\n",
       "    </tr>\n",
       "    <tr>\n",
       "      <th>8</th>\n",
       "      <td>NaN</td>\n",
       "      <td>2012-12-03 13:10:00 UTC</td>\n",
       "      <td>-74.006462</td>\n",
       "      <td>40.726713</td>\n",
       "      <td>-73.993078</td>\n",
       "      <td>40.731628</td>\n",
       "      <td>1.0</td>\n",
       "    </tr>\n",
       "    <tr>\n",
       "      <th>9</th>\n",
       "      <td>8.9</td>\n",
       "      <td>2009-09-02 01:11:00 UTC</td>\n",
       "      <td>-73.980658</td>\n",
       "      <td>40.733873</td>\n",
       "      <td>-73.991540</td>\n",
       "      <td>40.758138</td>\n",
       "      <td>2.0</td>\n",
       "    </tr>\n",
       "  </tbody>\n",
       "</table>\n",
       "</div>"
      ],
      "text/plain": [
       "  fare_amount          pickup_datetime  pickup_longitude  pickup_latitude  \\\n",
       "0         4.5  2009-06-15 17:26:21 UTC        -73.844311        40.721319   \n",
       "1        16.9  2010-01-05 16:52:16 UTC        -74.016048        40.711303   \n",
       "2         5.7  2011-08-18 00:35:00 UTC        -73.982738        40.761270   \n",
       "3         7.7  2012-04-21 04:30:42 UTC        -73.987130        40.733143   \n",
       "4         5.3  2010-03-09 07:51:00 UTC        -73.968095        40.768008   \n",
       "5        12.1  2011-01-06 09:50:45 UTC        -74.000964        40.731630   \n",
       "6         7.5  2012-11-20 20:35:00 UTC        -73.980002        40.751662   \n",
       "7        16.5  2012-01-04 17:22:00 UTC        -73.951300        40.774138   \n",
       "8         NaN  2012-12-03 13:10:00 UTC        -74.006462        40.726713   \n",
       "9         8.9  2009-09-02 01:11:00 UTC        -73.980658        40.733873   \n",
       "\n",
       "   dropoff_longitude  dropoff_latitude  passenger_count  \n",
       "0         -73.841610         40.712278              1.0  \n",
       "1         -73.979268         40.782004              1.0  \n",
       "2         -73.991242         40.750562              2.0  \n",
       "3         -73.991567         40.758092              1.0  \n",
       "4         -73.956655         40.783762              1.0  \n",
       "5         -73.972892         40.758233              1.0  \n",
       "6         -73.973802         40.764842              1.0  \n",
       "7         -73.990095         40.751048              1.0  \n",
       "8         -73.993078         40.731628              1.0  \n",
       "9         -73.991540         40.758138              2.0  "
      ]
     },
     "execution_count": 156,
     "metadata": {},
     "output_type": "execute_result"
    }
   ],
   "source": [
    "df = pd.read_csv('train_cab.csv')\n",
    "# df.profile_report()\n",
    "df.head(10)"
   ]
  },
  {
   "cell_type": "code",
   "execution_count": 157,
   "metadata": {},
   "outputs": [],
   "source": [
    "# print(df.dtypes)\n",
    "# print(df.describe())\n",
    "# print(df.describe(include = ['O']))\n",
    "# print(df.isnull().sum())\n",
    "\n",
    "# # method 1: Displaying observations where latitude and longitude equal 0\n",
    "# # f1 = df['pickup_latitude'] == 0\n",
    "# # f2 = df['pickup_longitude'] == 0\n",
    "# # f3 = df['dropoff_longitude'] == 0\n",
    "# # f4 = df['dropoff_latitude'] == 0\n",
    "# # df.where(f1 | f2 | f3 | f4)\n",
    "\n",
    "# # method 2: Displaying observations where latitude and longitude equal 0\n",
    "# f1 = df['pickup_latitude'] == 0\n",
    "# f2 = df['pickup_longitude'] == 0\n",
    "# f3 = df['dropoff_longitude'] == 0\n",
    "# f4 = df['dropoff_latitude'] == 0\n",
    "# df1 = df.loc[f1 | f2 | f3 | f4]\n",
    "# print(df.shape)\n",
    "# print(df1.shape)\n",
    "# print((326/16067) * 100)"
   ]
  },
  {
   "cell_type": "code",
   "execution_count": 158,
   "metadata": {},
   "outputs": [
    {
     "data": {
      "text/plain": [
       "fare_amount           object\n",
       "pickup_datetime       object\n",
       "pickup_longitude     float64\n",
       "pickup_latitude      float64\n",
       "dropoff_longitude    float64\n",
       "dropoff_latitude     float64\n",
       "passenger_count      float64\n",
       "dtype: object"
      ]
     },
     "execution_count": 158,
     "metadata": {},
     "output_type": "execute_result"
    }
   ],
   "source": [
    "df.dtypes"
   ]
  },
  {
   "cell_type": "markdown",
   "metadata": {},
   "source": [
    "# Exploratory Data Analysis"
   ]
  },
  {
   "cell_type": "code",
   "execution_count": 159,
   "metadata": {},
   "outputs": [
    {
     "name": "stdout",
     "output_type": "stream",
     "text": [
      "0.15559843156780978\n"
     ]
    },
    {
     "data": {
      "text/html": [
       "<div>\n",
       "<style scoped>\n",
       "    .dataframe tbody tr th:only-of-type {\n",
       "        vertical-align: middle;\n",
       "    }\n",
       "\n",
       "    .dataframe tbody tr th {\n",
       "        vertical-align: top;\n",
       "    }\n",
       "\n",
       "    .dataframe thead th {\n",
       "        text-align: right;\n",
       "    }\n",
       "</style>\n",
       "<table border=\"1\" class=\"dataframe\">\n",
       "  <thead>\n",
       "    <tr style=\"text-align: right;\">\n",
       "      <th></th>\n",
       "      <th>fare_amount</th>\n",
       "      <th>pickup_longitude</th>\n",
       "      <th>pickup_latitude</th>\n",
       "      <th>dropoff_longitude</th>\n",
       "      <th>dropoff_latitude</th>\n",
       "      <th>passenger_count</th>\n",
       "      <th>date_time</th>\n",
       "    </tr>\n",
       "  </thead>\n",
       "  <tbody>\n",
       "    <tr>\n",
       "      <th>0</th>\n",
       "      <td>4.5</td>\n",
       "      <td>-73.844311</td>\n",
       "      <td>40.721319</td>\n",
       "      <td>-73.841610</td>\n",
       "      <td>40.712278</td>\n",
       "      <td>1.0</td>\n",
       "      <td>2009-06-15 17:26:21+00:00</td>\n",
       "    </tr>\n",
       "    <tr>\n",
       "      <th>1</th>\n",
       "      <td>16.9</td>\n",
       "      <td>-74.016048</td>\n",
       "      <td>40.711303</td>\n",
       "      <td>-73.979268</td>\n",
       "      <td>40.782004</td>\n",
       "      <td>1.0</td>\n",
       "      <td>2010-01-05 16:52:16+00:00</td>\n",
       "    </tr>\n",
       "    <tr>\n",
       "      <th>2</th>\n",
       "      <td>5.7</td>\n",
       "      <td>-73.982738</td>\n",
       "      <td>40.761270</td>\n",
       "      <td>-73.991242</td>\n",
       "      <td>40.750562</td>\n",
       "      <td>2.0</td>\n",
       "      <td>2011-08-18 00:35:00+00:00</td>\n",
       "    </tr>\n",
       "    <tr>\n",
       "      <th>3</th>\n",
       "      <td>7.7</td>\n",
       "      <td>-73.987130</td>\n",
       "      <td>40.733143</td>\n",
       "      <td>-73.991567</td>\n",
       "      <td>40.758092</td>\n",
       "      <td>1.0</td>\n",
       "      <td>2012-04-21 04:30:42+00:00</td>\n",
       "    </tr>\n",
       "    <tr>\n",
       "      <th>4</th>\n",
       "      <td>5.3</td>\n",
       "      <td>-73.968095</td>\n",
       "      <td>40.768008</td>\n",
       "      <td>-73.956655</td>\n",
       "      <td>40.783762</td>\n",
       "      <td>1.0</td>\n",
       "      <td>2010-03-09 07:51:00+00:00</td>\n",
       "    </tr>\n",
       "    <tr>\n",
       "      <th>5</th>\n",
       "      <td>12.1</td>\n",
       "      <td>-74.000964</td>\n",
       "      <td>40.731630</td>\n",
       "      <td>-73.972892</td>\n",
       "      <td>40.758233</td>\n",
       "      <td>1.0</td>\n",
       "      <td>2011-01-06 09:50:45+00:00</td>\n",
       "    </tr>\n",
       "    <tr>\n",
       "      <th>6</th>\n",
       "      <td>7.5</td>\n",
       "      <td>-73.980002</td>\n",
       "      <td>40.751662</td>\n",
       "      <td>-73.973802</td>\n",
       "      <td>40.764842</td>\n",
       "      <td>1.0</td>\n",
       "      <td>2012-11-20 20:35:00+00:00</td>\n",
       "    </tr>\n",
       "    <tr>\n",
       "      <th>7</th>\n",
       "      <td>16.5</td>\n",
       "      <td>-73.951300</td>\n",
       "      <td>40.774138</td>\n",
       "      <td>-73.990095</td>\n",
       "      <td>40.751048</td>\n",
       "      <td>1.0</td>\n",
       "      <td>2012-01-04 17:22:00+00:00</td>\n",
       "    </tr>\n",
       "    <tr>\n",
       "      <th>8</th>\n",
       "      <td>8.9</td>\n",
       "      <td>-73.980658</td>\n",
       "      <td>40.733873</td>\n",
       "      <td>-73.991540</td>\n",
       "      <td>40.758138</td>\n",
       "      <td>2.0</td>\n",
       "      <td>2009-09-02 01:11:00+00:00</td>\n",
       "    </tr>\n",
       "    <tr>\n",
       "      <th>9</th>\n",
       "      <td>5.3</td>\n",
       "      <td>-73.996335</td>\n",
       "      <td>40.737142</td>\n",
       "      <td>-73.980721</td>\n",
       "      <td>40.733559</td>\n",
       "      <td>1.0</td>\n",
       "      <td>2012-04-08 07:30:50+00:00</td>\n",
       "    </tr>\n",
       "  </tbody>\n",
       "</table>\n",
       "</div>"
      ],
      "text/plain": [
       "   fare_amount  pickup_longitude  pickup_latitude  dropoff_longitude  \\\n",
       "0          4.5        -73.844311        40.721319         -73.841610   \n",
       "1         16.9        -74.016048        40.711303         -73.979268   \n",
       "2          5.7        -73.982738        40.761270         -73.991242   \n",
       "3          7.7        -73.987130        40.733143         -73.991567   \n",
       "4          5.3        -73.968095        40.768008         -73.956655   \n",
       "5         12.1        -74.000964        40.731630         -73.972892   \n",
       "6          7.5        -73.980002        40.751662         -73.973802   \n",
       "7         16.5        -73.951300        40.774138         -73.990095   \n",
       "8          8.9        -73.980658        40.733873         -73.991540   \n",
       "9          5.3        -73.996335        40.737142         -73.980721   \n",
       "\n",
       "   dropoff_latitude  passenger_count                 date_time  \n",
       "0         40.712278              1.0 2009-06-15 17:26:21+00:00  \n",
       "1         40.782004              1.0 2010-01-05 16:52:16+00:00  \n",
       "2         40.750562              2.0 2011-08-18 00:35:00+00:00  \n",
       "3         40.758092              1.0 2012-04-21 04:30:42+00:00  \n",
       "4         40.783762              1.0 2010-03-09 07:51:00+00:00  \n",
       "5         40.758233              1.0 2011-01-06 09:50:45+00:00  \n",
       "6         40.764842              1.0 2012-11-20 20:35:00+00:00  \n",
       "7         40.751048              1.0 2012-01-04 17:22:00+00:00  \n",
       "8         40.758138              2.0 2009-09-02 01:11:00+00:00  \n",
       "9         40.733559              1.0 2012-04-08 07:30:50+00:00  "
      ]
     },
     "execution_count": 159,
     "metadata": {},
     "output_type": "execute_result"
    }
   ],
   "source": [
    "# Removing 'UTC' from datetime\n",
    "df['pickup_datetime'] = df['pickup_datetime'].map(lambda x: x.rstrip(' UTC'))\n",
    "\n",
    "# Converting data type of 'pickup_datetime' from object to date time \n",
    "df['date_time'] = pd.to_datetime(df['pickup_datetime'], utc = True, errors = 'coerce')\n",
    "\n",
    "# Dropping the 'pickup_datetime' column as new column 'date_time' has been added\n",
    "df.drop('pickup_datetime', axis = 1, inplace = True)\n",
    "\n",
    "# Converting data type of 'fare_amount' to numeric\n",
    "df['fare_amount'] = pd.to_numeric(df['fare_amount'], errors = 'coerce')\n",
    "\n",
    "# Calculating percentage of missing value in dependent variable\n",
    "print((df['fare_amount'].isnull().sum() / len(df) * 100))\n",
    "\n",
    "# Dropping the rows with missing value in dependent variable since it is negligible\n",
    "df.dropna(subset = ['fare_amount'], inplace = True)\n",
    "\n",
    "# Dropping the observations where fare amount is less than or equal to zero as it doesn't make sense\n",
    "# df[df['fare_amount'] <= 0]\n",
    "df.drop(df[df['fare_amount'] <= 0].index, inplace = True)\n",
    "\n",
    "df.reset_index(inplace = True, drop = True)\n",
    "\n",
    "df.head(10)"
   ]
  },
  {
   "cell_type": "code",
   "execution_count": 160,
   "metadata": {},
   "outputs": [
    {
     "data": {
      "text/plain": [
       "fare_amount                      float64\n",
       "pickup_longitude                 float64\n",
       "pickup_latitude                  float64\n",
       "dropoff_longitude                float64\n",
       "dropoff_latitude                 float64\n",
       "passenger_count                  float64\n",
       "date_time            datetime64[ns, UTC]\n",
       "dtype: object"
      ]
     },
     "execution_count": 160,
     "metadata": {},
     "output_type": "execute_result"
    }
   ],
   "source": [
    "df.dtypes"
   ]
  },
  {
   "cell_type": "markdown",
   "metadata": {},
   "source": [
    "# Feature Engineering"
   ]
  },
  {
   "cell_type": "code",
   "execution_count": 161,
   "metadata": {},
   "outputs": [
    {
     "data": {
      "text/plain": [
       "fare_amount          float64\n",
       "pickup_longitude     float64\n",
       "pickup_latitude      float64\n",
       "dropoff_longitude    float64\n",
       "dropoff_latitude     float64\n",
       "passenger_count      float64\n",
       "weekday               object\n",
       "hour_of_day           object\n",
       "dtype: object"
      ]
     },
     "execution_count": 161,
     "metadata": {},
     "output_type": "execute_result"
    }
   ],
   "source": [
    "#Extracting day of week and hour of day features from date time\n",
    "df['weekday'] = df.date_time.dt.weekday_name\n",
    "df['hour_of_day'] = df.date_time.dt.hour\n",
    "\n",
    "# Changing hour_of_day to object type\n",
    "df['hour_of_day'] = df['hour_of_day'].astype('O')\n",
    "\n",
    "# Dropping date_time feature\n",
    "df.drop('date_time', axis = 1, inplace = True)\n",
    "\n",
    "df.head()\n",
    "df.dtypes"
   ]
  },
  {
   "cell_type": "code",
   "execution_count": 162,
   "metadata": {},
   "outputs": [
    {
     "data": {
      "text/plain": [
       "dist               float64\n",
       "passenger_count    float64\n",
       "weekday             object\n",
       "hour_of_day         object\n",
       "fare_amount        float64\n",
       "dtype: object"
      ]
     },
     "execution_count": 162,
     "metadata": {},
     "output_type": "execute_result"
    }
   ],
   "source": [
    "# Derive distance feature from latitude & longitude pairs\n",
    "\n",
    "# vectorized haversine function\n",
    "def haversine(lat1, lon1, lat2, lon2, to_radians=True, earth_radius=6371):\n",
    "    \"\"\"\n",
    "    slightly modified version: of http://stackoverflow.com/a/29546836/2901002\n",
    "\n",
    "    Calculate the great circle distance between two points\n",
    "    on the earth (specified in decimal degrees or in radians)\n",
    "\n",
    "    All (lat, lon) coordinates must have numeric dtypes and be of equal length.\n",
    "\n",
    "    \"\"\"\n",
    "    if to_radians:\n",
    "        lat1, lon1, lat2, lon2 = np.radians([lat1, lon1, lat2, lon2])\n",
    "\n",
    "    a = np.sin((lat2-lat1)/2.0)**2 + \\\n",
    "        np.cos(lat1) * np.cos(lat2) * np.sin((lon2-lon1)/2.0)**2\n",
    "\n",
    "    return earth_radius * 2 * np.arcsin(np.sqrt(a))\n",
    "\n",
    "p_lat = df['pickup_latitude']\n",
    "p_long = df['pickup_longitude']\n",
    "d_lat = df['dropoff_latitude']\n",
    "d_long = df['dropoff_longitude']\n",
    "\n",
    "df['dist'] = haversine(p_lat, p_long, d_lat, d_long)\n",
    "\n",
    "# Dropping latitude and longitude features\n",
    "df.drop(['pickup_latitude', 'pickup_longitude', 'dropoff_latitude', 'dropoff_longitude'], axis = 1, inplace = True)\n",
    "\n",
    "# Rearranging colunms sequence\n",
    "df = df[['dist', 'passenger_count', 'weekday', 'hour_of_day', 'fare_amount']]\n",
    "df.head()\n",
    "df.dtypes"
   ]
  },
  {
   "cell_type": "code",
   "execution_count": 164,
   "metadata": {},
   "outputs": [
    {
     "data": {
      "text/plain": [
       "dist               float64\n",
       "passenger_count    float64\n",
       "weekday             object\n",
       "hour_of_day         object\n",
       "fare_amount        float64\n",
       "dtype: object"
      ]
     },
     "execution_count": 164,
     "metadata": {},
     "output_type": "execute_result"
    }
   ],
   "source": [
    "# Rounding off passenger count as it should be a whole number\n",
    "df['passenger_count'] = df['passenger_count'].round()\n",
    "\n",
    "# Dropping the observations where passenger count is greater than 6 as it is pretty impractical hence that data is not correct\n",
    "df.drop(df[(df['passenger_count'] > 6)].index, inplace = True)\n",
    "\n",
    "df.reset_index(inplace = True, drop = True)\n",
    "\n",
    "df.head()\n",
    "df.dtypes"
   ]
  },
  {
   "cell_type": "code",
   "execution_count": 190,
   "metadata": {},
   "outputs": [
    {
     "data": {
      "text/plain": [
       "array([ 1.,  2.,  3., nan,  6.,  5.,  4.])"
      ]
     },
     "execution_count": 190,
     "metadata": {},
     "output_type": "execute_result"
    }
   ],
   "source": [
    "df['passenger_count'].unique()"
   ]
  },
  {
   "cell_type": "code",
   "execution_count": 166,
   "metadata": {},
   "outputs": [
    {
     "data": {
      "text/plain": [
       "dist               float64\n",
       "passenger_count    float64\n",
       "weekday             object\n",
       "hour_of_day         object\n",
       "fare_amount        float64\n",
       "dtype: object"
      ]
     },
     "execution_count": 166,
     "metadata": {},
     "output_type": "execute_result"
    }
   ],
   "source": [
    "# Dropping the observations where both distance and passenger count is 0 as imputing these values will inaccurate results\n",
    "# print(df[(df['passenger_count'] < 1) & (df['dist'] == 0)].count())\n",
    "df.drop(df[(df['passenger_count'] < 1) & (df['dist'] == 0)].index, inplace = True)\n",
    "df.reset_index(inplace = True, drop = True)\n",
    "df.dtypes"
   ]
  },
  {
   "cell_type": "code",
   "execution_count": 33,
   "metadata": {},
   "outputs": [],
   "source": [
    "# Converting dtype of passenger count to object\n",
    "# df['passenger_count'] = df['passenger_count'].astype('O')"
   ]
  },
  {
   "cell_type": "code",
   "execution_count": 189,
   "metadata": {},
   "outputs": [
    {
     "data": {
      "text/plain": [
       "dist               454\n",
       "passenger_count    112\n",
       "weekday              1\n",
       "hour_of_day          1\n",
       "fare_amount          0\n",
       "dtype: int64"
      ]
     },
     "execution_count": 189,
     "metadata": {},
     "output_type": "execute_result"
    }
   ],
   "source": [
    "# Replacing all remaining zeroes in dist and passenger_count with nan which will be imputed later\n",
    "df['dist'].replace(0, np.nan, inplace = True)\n",
    "df['passenger_count'].replace(0, np.nan, inplace = True)\n",
    "\n",
    "df.isnull().sum()"
   ]
  },
  {
   "cell_type": "code",
   "execution_count": 191,
   "metadata": {},
   "outputs": [
    {
     "data": {
      "text/plain": [
       "dist               float64\n",
       "passenger_count    float64\n",
       "weekday             object\n",
       "hour_of_day         object\n",
       "fare_amount        float64\n",
       "dtype: object"
      ]
     },
     "execution_count": 191,
     "metadata": {},
     "output_type": "execute_result"
    }
   ],
   "source": [
    "df.dtypes"
   ]
  },
  {
   "cell_type": "code",
   "execution_count": 15,
   "metadata": {},
   "outputs": [],
   "source": [
    "# print(df.dtypes)\n",
    "# print(df.describe())\n",
    "# print(df.describe(include = ['O']))\n",
    "# df['weekday'].value_counts()\n",
    "# print(df.isnull().sum())"
   ]
  },
  {
   "cell_type": "markdown",
   "metadata": {},
   "source": [
    "# Visualization"
   ]
  },
  {
   "cell_type": "code",
   "execution_count": 16,
   "metadata": {},
   "outputs": [],
   "source": [
    "# # Visualise distribution of data in features\n",
    "\n",
    "# x = df[df.fare_amount<100]\n",
    "# for c in x.iloc[:,0:5]:\n",
    "#     df.hist(c)"
   ]
  },
  {
   "cell_type": "markdown",
   "metadata": {},
   "source": [
    "# Univariate Analysis - Outliers Detection"
   ]
  },
  {
   "cell_type": "code",
   "execution_count": 95,
   "metadata": {},
   "outputs": [],
   "source": [
    "# # Make copy of data\n",
    "# df_cpy = df.copy()\n",
    "# df = df_cpy.copy()"
   ]
  },
  {
   "cell_type": "code",
   "execution_count": 96,
   "metadata": {},
   "outputs": [],
   "source": [
    "# # Plot boxplot to visualise outliers\n",
    "# %matplotlib inline\n",
    "# plt.boxplot(df['dist'])"
   ]
  },
  {
   "cell_type": "code",
   "execution_count": 192,
   "metadata": {},
   "outputs": [
    {
     "data": {
      "text/plain": [
       "dist               float64\n",
       "passenger_count    float64\n",
       "weekday             object\n",
       "hour_of_day         object\n",
       "fare_amount        float64\n",
       "dtype: object"
      ]
     },
     "execution_count": 192,
     "metadata": {},
     "output_type": "execute_result"
    }
   ],
   "source": [
    "# Defining numerical and object columns\n",
    "cols_num = ['fare_amount', 'dist']\n",
    "cols_obj = ['weekday', 'hour_of_day', 'passenger_count']\n",
    "df.dtypes"
   ]
  },
  {
   "cell_type": "code",
   "execution_count": 38,
   "metadata": {},
   "outputs": [
    {
     "data": {
      "text/html": [
       "<div>\n",
       "<style scoped>\n",
       "    .dataframe tbody tr th:only-of-type {\n",
       "        vertical-align: middle;\n",
       "    }\n",
       "\n",
       "    .dataframe tbody tr th {\n",
       "        vertical-align: top;\n",
       "    }\n",
       "\n",
       "    .dataframe thead th {\n",
       "        text-align: right;\n",
       "    }\n",
       "</style>\n",
       "<table border=\"1\" class=\"dataframe\">\n",
       "  <thead>\n",
       "    <tr style=\"text-align: right;\">\n",
       "      <th></th>\n",
       "      <th>dist</th>\n",
       "      <th>passenger_count</th>\n",
       "      <th>weekday</th>\n",
       "      <th>hour_of_day</th>\n",
       "      <th>fare_amount</th>\n",
       "    </tr>\n",
       "  </thead>\n",
       "  <tbody>\n",
       "    <tr>\n",
       "      <th>0</th>\n",
       "      <td>1.030764</td>\n",
       "      <td>1.0</td>\n",
       "      <td>Monday</td>\n",
       "      <td>17</td>\n",
       "      <td>4.5</td>\n",
       "    </tr>\n",
       "    <tr>\n",
       "      <th>1</th>\n",
       "      <td>8.450134</td>\n",
       "      <td>1.0</td>\n",
       "      <td>Tuesday</td>\n",
       "      <td>16</td>\n",
       "      <td>16.9</td>\n",
       "    </tr>\n",
       "    <tr>\n",
       "      <th>2</th>\n",
       "      <td>1.389525</td>\n",
       "      <td>2.0</td>\n",
       "      <td>Thursday</td>\n",
       "      <td>0</td>\n",
       "      <td>5.7</td>\n",
       "    </tr>\n",
       "    <tr>\n",
       "      <th>3</th>\n",
       "      <td>2.799270</td>\n",
       "      <td>1.0</td>\n",
       "      <td>Saturday</td>\n",
       "      <td>4</td>\n",
       "      <td>7.7</td>\n",
       "    </tr>\n",
       "    <tr>\n",
       "      <th>4</th>\n",
       "      <td>1.999157</td>\n",
       "      <td>1.0</td>\n",
       "      <td>Tuesday</td>\n",
       "      <td>7</td>\n",
       "      <td>5.3</td>\n",
       "    </tr>\n",
       "    <tr>\n",
       "      <th>5</th>\n",
       "      <td>3.787239</td>\n",
       "      <td>1.0</td>\n",
       "      <td>Thursday</td>\n",
       "      <td>9</td>\n",
       "      <td>12.1</td>\n",
       "    </tr>\n",
       "    <tr>\n",
       "      <th>6</th>\n",
       "      <td>1.555807</td>\n",
       "      <td>1.0</td>\n",
       "      <td>Tuesday</td>\n",
       "      <td>20</td>\n",
       "      <td>7.5</td>\n",
       "    </tr>\n",
       "    <tr>\n",
       "      <th>7</th>\n",
       "      <td>4.155444</td>\n",
       "      <td>1.0</td>\n",
       "      <td>Wednesday</td>\n",
       "      <td>17</td>\n",
       "      <td>16.5</td>\n",
       "    </tr>\n",
       "    <tr>\n",
       "      <th>8</th>\n",
       "      <td>2.849627</td>\n",
       "      <td>2.0</td>\n",
       "      <td>Wednesday</td>\n",
       "      <td>1</td>\n",
       "      <td>8.9</td>\n",
       "    </tr>\n",
       "    <tr>\n",
       "      <th>9</th>\n",
       "      <td>1.374577</td>\n",
       "      <td>1.0</td>\n",
       "      <td>Sunday</td>\n",
       "      <td>7</td>\n",
       "      <td>5.3</td>\n",
       "    </tr>\n",
       "  </tbody>\n",
       "</table>\n",
       "</div>"
      ],
      "text/plain": [
       "       dist  passenger_count    weekday hour_of_day  fare_amount\n",
       "0  1.030764              1.0     Monday          17          4.5\n",
       "1  8.450134              1.0    Tuesday          16         16.9\n",
       "2  1.389525              2.0   Thursday           0          5.7\n",
       "3  2.799270              1.0   Saturday           4          7.7\n",
       "4  1.999157              1.0    Tuesday           7          5.3\n",
       "5  3.787239              1.0   Thursday           9         12.1\n",
       "6  1.555807              1.0    Tuesday          20          7.5\n",
       "7  4.155444              1.0  Wednesday          17         16.5\n",
       "8  2.849627              2.0  Wednesday           1          8.9\n",
       "9  1.374577              1.0     Sunday           7          5.3"
      ]
     },
     "execution_count": 38,
     "metadata": {},
     "output_type": "execute_result"
    }
   ],
   "source": [
    "# df_cpy = df.copy()\n",
    "# df = df_cpy.copy()\n",
    "# df.head(10)"
   ]
  },
  {
   "cell_type": "code",
   "execution_count": 402,
   "metadata": {},
   "outputs": [
    {
     "data": {
      "text/plain": [
       "dist               float64\n",
       "passenger_count    float64\n",
       "weekday             object\n",
       "hour_of_day         object\n",
       "fare_amount        float64\n",
       "dtype: object"
      ]
     },
     "execution_count": 402,
     "metadata": {},
     "output_type": "execute_result"
    }
   ],
   "source": [
    "df.dtypes"
   ]
  },
  {
   "cell_type": "code",
   "execution_count": 193,
   "metadata": {},
   "outputs": [
    {
     "data": {
      "text/html": [
       "<div>\n",
       "<style scoped>\n",
       "    .dataframe tbody tr th:only-of-type {\n",
       "        vertical-align: middle;\n",
       "    }\n",
       "\n",
       "    .dataframe tbody tr th {\n",
       "        vertical-align: top;\n",
       "    }\n",
       "\n",
       "    .dataframe thead th {\n",
       "        text-align: right;\n",
       "    }\n",
       "</style>\n",
       "<table border=\"1\" class=\"dataframe\">\n",
       "  <thead>\n",
       "    <tr style=\"text-align: right;\">\n",
       "      <th></th>\n",
       "      <th>dist</th>\n",
       "      <th>passenger_count</th>\n",
       "      <th>weekday</th>\n",
       "      <th>hour_of_day</th>\n",
       "      <th>fare_amount</th>\n",
       "    </tr>\n",
       "  </thead>\n",
       "  <tbody>\n",
       "    <tr>\n",
       "      <th>0</th>\n",
       "      <td>1.030764</td>\n",
       "      <td>1.0</td>\n",
       "      <td>Monday</td>\n",
       "      <td>17</td>\n",
       "      <td>4.5</td>\n",
       "    </tr>\n",
       "    <tr>\n",
       "      <th>1</th>\n",
       "      <td>NaN</td>\n",
       "      <td>1.0</td>\n",
       "      <td>Tuesday</td>\n",
       "      <td>16</td>\n",
       "      <td>16.9</td>\n",
       "    </tr>\n",
       "    <tr>\n",
       "      <th>2</th>\n",
       "      <td>1.389525</td>\n",
       "      <td>2.0</td>\n",
       "      <td>Thursday</td>\n",
       "      <td>0</td>\n",
       "      <td>5.7</td>\n",
       "    </tr>\n",
       "    <tr>\n",
       "      <th>3</th>\n",
       "      <td>2.799270</td>\n",
       "      <td>1.0</td>\n",
       "      <td>Saturday</td>\n",
       "      <td>4</td>\n",
       "      <td>7.7</td>\n",
       "    </tr>\n",
       "    <tr>\n",
       "      <th>4</th>\n",
       "      <td>1.999157</td>\n",
       "      <td>1.0</td>\n",
       "      <td>Tuesday</td>\n",
       "      <td>7</td>\n",
       "      <td>5.3</td>\n",
       "    </tr>\n",
       "  </tbody>\n",
       "</table>\n",
       "</div>"
      ],
      "text/plain": [
       "       dist  passenger_count   weekday hour_of_day  fare_amount\n",
       "0  1.030764              1.0    Monday          17          4.5\n",
       "1       NaN              1.0   Tuesday          16         16.9\n",
       "2  1.389525              2.0  Thursday           0          5.7\n",
       "3  2.799270              1.0  Saturday           4          7.7\n",
       "4  1.999157              1.0   Tuesday           7          5.3"
      ]
     },
     "execution_count": 193,
     "metadata": {},
     "output_type": "execute_result"
    }
   ],
   "source": [
    "# Detect and replace with NA\n",
    "for i in cols_num:\n",
    "    # Extract quartiles\n",
    "    q75, q25 = np.nanpercentile(df[i], [75 ,25])\n",
    "    \n",
    "#     print(i)\n",
    "#     print('q75:', q75)\n",
    "#     print('q25:', q25)\n",
    "\n",
    "    # Calculate IQR\n",
    "    iqr = q75 - q25\n",
    "\n",
    "    # Calculate inner and outer fence\n",
    "    minimum = q25 - (iqr*1.5)\n",
    "    maximum = q75 + (iqr*1.5)\n",
    "\n",
    "#     print('min:',minimum)\n",
    "#     print('max:',maximum)\n",
    "\n",
    "    # Replace with NA\n",
    "    df.loc[df[i] < minimum, i] = np.nan\n",
    "    df.loc[df[i] > maximum, i] = np.nan\n",
    "\n",
    "    # Calculate missing value\n",
    "#     missing_val = pd.DataFrame(df.isnull().sum())\n",
    "\n",
    "    # # Impute with KNN\n",
    "    # marketing_train = pd.DataFrame(KNN(k = 3).complete(marketing_train), columns = marketing_train.columns)\n",
    "\n",
    "df.head()"
   ]
  },
  {
   "cell_type": "code",
   "execution_count": 194,
   "metadata": {},
   "outputs": [
    {
     "data": {
      "text/plain": [
       "dist               680\n",
       "passenger_count    106\n",
       "weekday              1\n",
       "hour_of_day          1\n",
       "fare_amount          0\n",
       "dtype: int64"
      ]
     },
     "execution_count": 194,
     "metadata": {},
     "output_type": "execute_result"
    }
   ],
   "source": [
    "# Dropping all observations where fare amount is nan after outlier detection\n",
    "df.dropna(subset = ['fare_amount'], inplace = True)\n",
    "df.reset_index(inplace = True, drop = True)\n",
    "\n",
    "df.isnull().sum()"
   ]
  },
  {
   "cell_type": "markdown",
   "metadata": {},
   "source": [
    "# Dummify"
   ]
  },
  {
   "cell_type": "code",
   "execution_count": 195,
   "metadata": {},
   "outputs": [
    {
     "data": {
      "text/html": [
       "<div>\n",
       "<style scoped>\n",
       "    .dataframe tbody tr th:only-of-type {\n",
       "        vertical-align: middle;\n",
       "    }\n",
       "\n",
       "    .dataframe tbody tr th {\n",
       "        vertical-align: top;\n",
       "    }\n",
       "\n",
       "    .dataframe thead th {\n",
       "        text-align: right;\n",
       "    }\n",
       "</style>\n",
       "<table border=\"1\" class=\"dataframe\">\n",
       "  <thead>\n",
       "    <tr style=\"text-align: right;\">\n",
       "      <th></th>\n",
       "      <th>dist</th>\n",
       "      <th>passenger_count</th>\n",
       "      <th>weekday</th>\n",
       "      <th>hour_of_day</th>\n",
       "      <th>fare_amount</th>\n",
       "    </tr>\n",
       "  </thead>\n",
       "  <tbody>\n",
       "    <tr>\n",
       "      <th>0</th>\n",
       "      <td>1.030764</td>\n",
       "      <td>1.0</td>\n",
       "      <td>Monday</td>\n",
       "      <td>17</td>\n",
       "      <td>4.5</td>\n",
       "    </tr>\n",
       "    <tr>\n",
       "      <th>1</th>\n",
       "      <td>NaN</td>\n",
       "      <td>1.0</td>\n",
       "      <td>Tuesday</td>\n",
       "      <td>16</td>\n",
       "      <td>16.9</td>\n",
       "    </tr>\n",
       "    <tr>\n",
       "      <th>2</th>\n",
       "      <td>1.389525</td>\n",
       "      <td>2.0</td>\n",
       "      <td>Thursday</td>\n",
       "      <td>0</td>\n",
       "      <td>5.7</td>\n",
       "    </tr>\n",
       "    <tr>\n",
       "      <th>3</th>\n",
       "      <td>2.799270</td>\n",
       "      <td>1.0</td>\n",
       "      <td>Saturday</td>\n",
       "      <td>4</td>\n",
       "      <td>7.7</td>\n",
       "    </tr>\n",
       "    <tr>\n",
       "      <th>4</th>\n",
       "      <td>1.999157</td>\n",
       "      <td>1.0</td>\n",
       "      <td>Tuesday</td>\n",
       "      <td>7</td>\n",
       "      <td>5.3</td>\n",
       "    </tr>\n",
       "    <tr>\n",
       "      <th>5</th>\n",
       "      <td>3.787239</td>\n",
       "      <td>1.0</td>\n",
       "      <td>Thursday</td>\n",
       "      <td>9</td>\n",
       "      <td>12.1</td>\n",
       "    </tr>\n",
       "    <tr>\n",
       "      <th>6</th>\n",
       "      <td>1.555807</td>\n",
       "      <td>1.0</td>\n",
       "      <td>Tuesday</td>\n",
       "      <td>20</td>\n",
       "      <td>7.5</td>\n",
       "    </tr>\n",
       "    <tr>\n",
       "      <th>7</th>\n",
       "      <td>4.155444</td>\n",
       "      <td>1.0</td>\n",
       "      <td>Wednesday</td>\n",
       "      <td>17</td>\n",
       "      <td>16.5</td>\n",
       "    </tr>\n",
       "    <tr>\n",
       "      <th>8</th>\n",
       "      <td>2.849627</td>\n",
       "      <td>2.0</td>\n",
       "      <td>Wednesday</td>\n",
       "      <td>1</td>\n",
       "      <td>8.9</td>\n",
       "    </tr>\n",
       "    <tr>\n",
       "      <th>9</th>\n",
       "      <td>1.374577</td>\n",
       "      <td>1.0</td>\n",
       "      <td>Sunday</td>\n",
       "      <td>7</td>\n",
       "      <td>5.3</td>\n",
       "    </tr>\n",
       "  </tbody>\n",
       "</table>\n",
       "</div>"
      ],
      "text/plain": [
       "       dist  passenger_count    weekday hour_of_day  fare_amount\n",
       "0  1.030764              1.0     Monday          17          4.5\n",
       "1       NaN              1.0    Tuesday          16         16.9\n",
       "2  1.389525              2.0   Thursday           0          5.7\n",
       "3  2.799270              1.0   Saturday           4          7.7\n",
       "4  1.999157              1.0    Tuesday           7          5.3\n",
       "5  3.787239              1.0   Thursday           9         12.1\n",
       "6  1.555807              1.0    Tuesday          20          7.5\n",
       "7  4.155444              1.0  Wednesday          17         16.5\n",
       "8  2.849627              2.0  Wednesday           1          8.9\n",
       "9  1.374577              1.0     Sunday           7          5.3"
      ]
     },
     "execution_count": 195,
     "metadata": {},
     "output_type": "execute_result"
    }
   ],
   "source": [
    "# df_cpy1 = df.copy()\n",
    "# df = df_cpy1.copy()\n",
    "# df.head(10)"
   ]
  },
  {
   "cell_type": "code",
   "execution_count": 196,
   "metadata": {},
   "outputs": [
    {
     "data": {
      "text/html": [
       "<div>\n",
       "<style scoped>\n",
       "    .dataframe tbody tr th:only-of-type {\n",
       "        vertical-align: middle;\n",
       "    }\n",
       "\n",
       "    .dataframe tbody tr th {\n",
       "        vertical-align: top;\n",
       "    }\n",
       "\n",
       "    .dataframe thead th {\n",
       "        text-align: right;\n",
       "    }\n",
       "</style>\n",
       "<table border=\"1\" class=\"dataframe\">\n",
       "  <thead>\n",
       "    <tr style=\"text-align: right;\">\n",
       "      <th></th>\n",
       "      <th>Monday</th>\n",
       "      <th>Saturday</th>\n",
       "      <th>Sunday</th>\n",
       "      <th>Thursday</th>\n",
       "      <th>Tuesday</th>\n",
       "      <th>Wednesday</th>\n",
       "    </tr>\n",
       "  </thead>\n",
       "  <tbody>\n",
       "    <tr>\n",
       "      <th>0</th>\n",
       "      <td>1</td>\n",
       "      <td>0</td>\n",
       "      <td>0</td>\n",
       "      <td>0</td>\n",
       "      <td>0</td>\n",
       "      <td>0</td>\n",
       "    </tr>\n",
       "    <tr>\n",
       "      <th>1</th>\n",
       "      <td>0</td>\n",
       "      <td>0</td>\n",
       "      <td>0</td>\n",
       "      <td>0</td>\n",
       "      <td>1</td>\n",
       "      <td>0</td>\n",
       "    </tr>\n",
       "    <tr>\n",
       "      <th>2</th>\n",
       "      <td>0</td>\n",
       "      <td>0</td>\n",
       "      <td>0</td>\n",
       "      <td>1</td>\n",
       "      <td>0</td>\n",
       "      <td>0</td>\n",
       "    </tr>\n",
       "    <tr>\n",
       "      <th>3</th>\n",
       "      <td>0</td>\n",
       "      <td>1</td>\n",
       "      <td>0</td>\n",
       "      <td>0</td>\n",
       "      <td>0</td>\n",
       "      <td>0</td>\n",
       "    </tr>\n",
       "    <tr>\n",
       "      <th>4</th>\n",
       "      <td>0</td>\n",
       "      <td>0</td>\n",
       "      <td>0</td>\n",
       "      <td>0</td>\n",
       "      <td>1</td>\n",
       "      <td>0</td>\n",
       "    </tr>\n",
       "  </tbody>\n",
       "</table>\n",
       "</div>"
      ],
      "text/plain": [
       "   Monday  Saturday  Sunday  Thursday  Tuesday  Wednesday\n",
       "0       1         0       0         0        0          0\n",
       "1       0         0       0         0        1          0\n",
       "2       0         0       0         1        0          0\n",
       "3       0         1       0         0        0          0\n",
       "4       0         0       0         0        1          0"
      ]
     },
     "execution_count": 196,
     "metadata": {},
     "output_type": "execute_result"
    }
   ],
   "source": [
    "# Get dummy variables for categorical variables\n",
    "df_dummy = pd.get_dummies(df['weekday'], drop_first = True)\n",
    "df_dummy.head()"
   ]
  },
  {
   "cell_type": "code",
   "execution_count": 197,
   "metadata": {},
   "outputs": [
    {
     "data": {
      "text/html": [
       "<div>\n",
       "<style scoped>\n",
       "    .dataframe tbody tr th:only-of-type {\n",
       "        vertical-align: middle;\n",
       "    }\n",
       "\n",
       "    .dataframe tbody tr th {\n",
       "        vertical-align: top;\n",
       "    }\n",
       "\n",
       "    .dataframe thead th {\n",
       "        text-align: right;\n",
       "    }\n",
       "</style>\n",
       "<table border=\"1\" class=\"dataframe\">\n",
       "  <thead>\n",
       "    <tr style=\"text-align: right;\">\n",
       "      <th></th>\n",
       "      <th>Monday</th>\n",
       "      <th>Saturday</th>\n",
       "      <th>Sunday</th>\n",
       "      <th>Thursday</th>\n",
       "      <th>Tuesday</th>\n",
       "      <th>Wednesday</th>\n",
       "      <th>dist</th>\n",
       "      <th>passenger_count</th>\n",
       "      <th>weekday</th>\n",
       "      <th>hour_of_day</th>\n",
       "      <th>fare_amount</th>\n",
       "    </tr>\n",
       "  </thead>\n",
       "  <tbody>\n",
       "    <tr>\n",
       "      <th>0</th>\n",
       "      <td>1</td>\n",
       "      <td>0</td>\n",
       "      <td>0</td>\n",
       "      <td>0</td>\n",
       "      <td>0</td>\n",
       "      <td>0</td>\n",
       "      <td>1.030764</td>\n",
       "      <td>1.0</td>\n",
       "      <td>Monday</td>\n",
       "      <td>17</td>\n",
       "      <td>4.5</td>\n",
       "    </tr>\n",
       "    <tr>\n",
       "      <th>1</th>\n",
       "      <td>0</td>\n",
       "      <td>0</td>\n",
       "      <td>0</td>\n",
       "      <td>0</td>\n",
       "      <td>1</td>\n",
       "      <td>0</td>\n",
       "      <td>NaN</td>\n",
       "      <td>1.0</td>\n",
       "      <td>Tuesday</td>\n",
       "      <td>16</td>\n",
       "      <td>16.9</td>\n",
       "    </tr>\n",
       "    <tr>\n",
       "      <th>2</th>\n",
       "      <td>0</td>\n",
       "      <td>0</td>\n",
       "      <td>0</td>\n",
       "      <td>1</td>\n",
       "      <td>0</td>\n",
       "      <td>0</td>\n",
       "      <td>1.389525</td>\n",
       "      <td>2.0</td>\n",
       "      <td>Thursday</td>\n",
       "      <td>0</td>\n",
       "      <td>5.7</td>\n",
       "    </tr>\n",
       "    <tr>\n",
       "      <th>3</th>\n",
       "      <td>0</td>\n",
       "      <td>1</td>\n",
       "      <td>0</td>\n",
       "      <td>0</td>\n",
       "      <td>0</td>\n",
       "      <td>0</td>\n",
       "      <td>2.799270</td>\n",
       "      <td>1.0</td>\n",
       "      <td>Saturday</td>\n",
       "      <td>4</td>\n",
       "      <td>7.7</td>\n",
       "    </tr>\n",
       "    <tr>\n",
       "      <th>4</th>\n",
       "      <td>0</td>\n",
       "      <td>0</td>\n",
       "      <td>0</td>\n",
       "      <td>0</td>\n",
       "      <td>1</td>\n",
       "      <td>0</td>\n",
       "      <td>1.999157</td>\n",
       "      <td>1.0</td>\n",
       "      <td>Tuesday</td>\n",
       "      <td>7</td>\n",
       "      <td>5.3</td>\n",
       "    </tr>\n",
       "  </tbody>\n",
       "</table>\n",
       "</div>"
      ],
      "text/plain": [
       "   Monday  Saturday  Sunday  Thursday  Tuesday  Wednesday      dist  \\\n",
       "0       1         0       0         0        0          0  1.030764   \n",
       "1       0         0       0         0        1          0       NaN   \n",
       "2       0         0       0         1        0          0  1.389525   \n",
       "3       0         1       0         0        0          0  2.799270   \n",
       "4       0         0       0         0        1          0  1.999157   \n",
       "\n",
       "   passenger_count   weekday hour_of_day  fare_amount  \n",
       "0              1.0    Monday          17          4.5  \n",
       "1              1.0   Tuesday          16         16.9  \n",
       "2              2.0  Thursday           0          5.7  \n",
       "3              1.0  Saturday           4          7.7  \n",
       "4              1.0   Tuesday           7          5.3  "
      ]
     },
     "execution_count": 197,
     "metadata": {},
     "output_type": "execute_result"
    }
   ],
   "source": [
    "# Concatenate the two data sets\n",
    "df = pd.concat([df_dummy, df], axis=1)\n",
    "df.head()"
   ]
  },
  {
   "cell_type": "code",
   "execution_count": 198,
   "metadata": {},
   "outputs": [
    {
     "data": {
      "text/html": [
       "<div>\n",
       "<style scoped>\n",
       "    .dataframe tbody tr th:only-of-type {\n",
       "        vertical-align: middle;\n",
       "    }\n",
       "\n",
       "    .dataframe tbody tr th {\n",
       "        vertical-align: top;\n",
       "    }\n",
       "\n",
       "    .dataframe thead th {\n",
       "        text-align: right;\n",
       "    }\n",
       "</style>\n",
       "<table border=\"1\" class=\"dataframe\">\n",
       "  <thead>\n",
       "    <tr style=\"text-align: right;\">\n",
       "      <th></th>\n",
       "      <th>Monday</th>\n",
       "      <th>Saturday</th>\n",
       "      <th>Sunday</th>\n",
       "      <th>Thursday</th>\n",
       "      <th>Tuesday</th>\n",
       "      <th>Wednesday</th>\n",
       "      <th>dist</th>\n",
       "      <th>passenger_count</th>\n",
       "      <th>fare_amount</th>\n",
       "    </tr>\n",
       "  </thead>\n",
       "  <tbody>\n",
       "    <tr>\n",
       "      <th>0</th>\n",
       "      <td>1</td>\n",
       "      <td>0</td>\n",
       "      <td>0</td>\n",
       "      <td>0</td>\n",
       "      <td>0</td>\n",
       "      <td>0</td>\n",
       "      <td>1.030764</td>\n",
       "      <td>1.0</td>\n",
       "      <td>4.5</td>\n",
       "    </tr>\n",
       "    <tr>\n",
       "      <th>1</th>\n",
       "      <td>0</td>\n",
       "      <td>0</td>\n",
       "      <td>0</td>\n",
       "      <td>0</td>\n",
       "      <td>1</td>\n",
       "      <td>0</td>\n",
       "      <td>NaN</td>\n",
       "      <td>1.0</td>\n",
       "      <td>16.9</td>\n",
       "    </tr>\n",
       "    <tr>\n",
       "      <th>2</th>\n",
       "      <td>0</td>\n",
       "      <td>0</td>\n",
       "      <td>0</td>\n",
       "      <td>1</td>\n",
       "      <td>0</td>\n",
       "      <td>0</td>\n",
       "      <td>1.389525</td>\n",
       "      <td>2.0</td>\n",
       "      <td>5.7</td>\n",
       "    </tr>\n",
       "    <tr>\n",
       "      <th>3</th>\n",
       "      <td>0</td>\n",
       "      <td>1</td>\n",
       "      <td>0</td>\n",
       "      <td>0</td>\n",
       "      <td>0</td>\n",
       "      <td>0</td>\n",
       "      <td>2.799270</td>\n",
       "      <td>1.0</td>\n",
       "      <td>7.7</td>\n",
       "    </tr>\n",
       "    <tr>\n",
       "      <th>4</th>\n",
       "      <td>0</td>\n",
       "      <td>0</td>\n",
       "      <td>0</td>\n",
       "      <td>0</td>\n",
       "      <td>1</td>\n",
       "      <td>0</td>\n",
       "      <td>1.999157</td>\n",
       "      <td>1.0</td>\n",
       "      <td>5.3</td>\n",
       "    </tr>\n",
       "  </tbody>\n",
       "</table>\n",
       "</div>"
      ],
      "text/plain": [
       "   Monday  Saturday  Sunday  Thursday  Tuesday  Wednesday      dist  \\\n",
       "0       1         0       0         0        0          0  1.030764   \n",
       "1       0         0       0         0        1          0       NaN   \n",
       "2       0         0       0         1        0          0  1.389525   \n",
       "3       0         1       0         0        0          0  2.799270   \n",
       "4       0         0       0         0        1          0  1.999157   \n",
       "\n",
       "   passenger_count  fare_amount  \n",
       "0              1.0          4.5  \n",
       "1              1.0         16.9  \n",
       "2              2.0          5.7  \n",
       "3              1.0          7.7  \n",
       "4              1.0          5.3  "
      ]
     },
     "execution_count": 198,
     "metadata": {},
     "output_type": "execute_result"
    }
   ],
   "source": [
    "# Drop the weekday feature\n",
    "df.drop('weekday', axis = 1, inplace = True)\n",
    "df.drop('hour_of_day', axis = 1, inplace = True)\n",
    "df.head()"
   ]
  },
  {
   "cell_type": "markdown",
   "metadata": {},
   "source": [
    "# Feature Scaling"
   ]
  },
  {
   "cell_type": "code",
   "execution_count": 199,
   "metadata": {},
   "outputs": [
    {
     "data": {
      "text/html": [
       "<div>\n",
       "<style scoped>\n",
       "    .dataframe tbody tr th:only-of-type {\n",
       "        vertical-align: middle;\n",
       "    }\n",
       "\n",
       "    .dataframe tbody tr th {\n",
       "        vertical-align: top;\n",
       "    }\n",
       "\n",
       "    .dataframe thead th {\n",
       "        text-align: right;\n",
       "    }\n",
       "</style>\n",
       "<table border=\"1\" class=\"dataframe\">\n",
       "  <thead>\n",
       "    <tr style=\"text-align: right;\">\n",
       "      <th></th>\n",
       "      <th>Monday</th>\n",
       "      <th>Saturday</th>\n",
       "      <th>Sunday</th>\n",
       "      <th>Thursday</th>\n",
       "      <th>Tuesday</th>\n",
       "      <th>Wednesday</th>\n",
       "      <th>dist</th>\n",
       "      <th>passenger_count</th>\n",
       "      <th>fare_amount</th>\n",
       "    </tr>\n",
       "  </thead>\n",
       "  <tbody>\n",
       "    <tr>\n",
       "      <th>0</th>\n",
       "      <td>1</td>\n",
       "      <td>0</td>\n",
       "      <td>0</td>\n",
       "      <td>0</td>\n",
       "      <td>0</td>\n",
       "      <td>0</td>\n",
       "      <td>1.030764</td>\n",
       "      <td>1.0</td>\n",
       "      <td>4.5</td>\n",
       "    </tr>\n",
       "    <tr>\n",
       "      <th>1</th>\n",
       "      <td>0</td>\n",
       "      <td>0</td>\n",
       "      <td>0</td>\n",
       "      <td>0</td>\n",
       "      <td>1</td>\n",
       "      <td>0</td>\n",
       "      <td>NaN</td>\n",
       "      <td>1.0</td>\n",
       "      <td>16.9</td>\n",
       "    </tr>\n",
       "    <tr>\n",
       "      <th>2</th>\n",
       "      <td>0</td>\n",
       "      <td>0</td>\n",
       "      <td>0</td>\n",
       "      <td>1</td>\n",
       "      <td>0</td>\n",
       "      <td>0</td>\n",
       "      <td>1.389525</td>\n",
       "      <td>2.0</td>\n",
       "      <td>5.7</td>\n",
       "    </tr>\n",
       "    <tr>\n",
       "      <th>3</th>\n",
       "      <td>0</td>\n",
       "      <td>1</td>\n",
       "      <td>0</td>\n",
       "      <td>0</td>\n",
       "      <td>0</td>\n",
       "      <td>0</td>\n",
       "      <td>2.799270</td>\n",
       "      <td>1.0</td>\n",
       "      <td>7.7</td>\n",
       "    </tr>\n",
       "    <tr>\n",
       "      <th>4</th>\n",
       "      <td>0</td>\n",
       "      <td>0</td>\n",
       "      <td>0</td>\n",
       "      <td>0</td>\n",
       "      <td>1</td>\n",
       "      <td>0</td>\n",
       "      <td>1.999157</td>\n",
       "      <td>1.0</td>\n",
       "      <td>5.3</td>\n",
       "    </tr>\n",
       "    <tr>\n",
       "      <th>5</th>\n",
       "      <td>0</td>\n",
       "      <td>0</td>\n",
       "      <td>0</td>\n",
       "      <td>1</td>\n",
       "      <td>0</td>\n",
       "      <td>0</td>\n",
       "      <td>3.787239</td>\n",
       "      <td>1.0</td>\n",
       "      <td>12.1</td>\n",
       "    </tr>\n",
       "    <tr>\n",
       "      <th>6</th>\n",
       "      <td>0</td>\n",
       "      <td>0</td>\n",
       "      <td>0</td>\n",
       "      <td>0</td>\n",
       "      <td>1</td>\n",
       "      <td>0</td>\n",
       "      <td>1.555807</td>\n",
       "      <td>1.0</td>\n",
       "      <td>7.5</td>\n",
       "    </tr>\n",
       "    <tr>\n",
       "      <th>7</th>\n",
       "      <td>0</td>\n",
       "      <td>0</td>\n",
       "      <td>0</td>\n",
       "      <td>0</td>\n",
       "      <td>0</td>\n",
       "      <td>1</td>\n",
       "      <td>4.155444</td>\n",
       "      <td>1.0</td>\n",
       "      <td>16.5</td>\n",
       "    </tr>\n",
       "    <tr>\n",
       "      <th>8</th>\n",
       "      <td>0</td>\n",
       "      <td>0</td>\n",
       "      <td>0</td>\n",
       "      <td>0</td>\n",
       "      <td>0</td>\n",
       "      <td>1</td>\n",
       "      <td>2.849627</td>\n",
       "      <td>2.0</td>\n",
       "      <td>8.9</td>\n",
       "    </tr>\n",
       "    <tr>\n",
       "      <th>9</th>\n",
       "      <td>0</td>\n",
       "      <td>0</td>\n",
       "      <td>1</td>\n",
       "      <td>0</td>\n",
       "      <td>0</td>\n",
       "      <td>0</td>\n",
       "      <td>1.374577</td>\n",
       "      <td>1.0</td>\n",
       "      <td>5.3</td>\n",
       "    </tr>\n",
       "  </tbody>\n",
       "</table>\n",
       "</div>"
      ],
      "text/plain": [
       "   Monday  Saturday  Sunday  Thursday  Tuesday  Wednesday      dist  \\\n",
       "0       1         0       0         0        0          0  1.030764   \n",
       "1       0         0       0         0        1          0       NaN   \n",
       "2       0         0       0         1        0          0  1.389525   \n",
       "3       0         1       0         0        0          0  2.799270   \n",
       "4       0         0       0         0        1          0  1.999157   \n",
       "5       0         0       0         1        0          0  3.787239   \n",
       "6       0         0       0         0        1          0  1.555807   \n",
       "7       0         0       0         0        0          1  4.155444   \n",
       "8       0         0       0         0        0          1  2.849627   \n",
       "9       0         0       1         0        0          0  1.374577   \n",
       "\n",
       "   passenger_count  fare_amount  \n",
       "0              1.0          4.5  \n",
       "1              1.0         16.9  \n",
       "2              2.0          5.7  \n",
       "3              1.0          7.7  \n",
       "4              1.0          5.3  \n",
       "5              1.0         12.1  \n",
       "6              1.0          7.5  \n",
       "7              1.0         16.5  \n",
       "8              2.0          8.9  \n",
       "9              1.0          5.3  "
      ]
     },
     "execution_count": 199,
     "metadata": {},
     "output_type": "execute_result"
    }
   ],
   "source": [
    "# df_cpy1 = df.copy()\n",
    "# df = df_cpy1.copy()\n",
    "# df.head(10)"
   ]
  },
  {
   "cell_type": "code",
   "execution_count": 200,
   "metadata": {},
   "outputs": [
    {
     "data": {
      "text/plain": [
       "Monday               uint8\n",
       "Saturday             uint8\n",
       "Sunday               uint8\n",
       "Thursday             uint8\n",
       "Tuesday              uint8\n",
       "Wednesday            uint8\n",
       "dist               float64\n",
       "passenger_count    float64\n",
       "fare_amount        float64\n",
       "dtype: object"
      ]
     },
     "execution_count": 200,
     "metadata": {},
     "output_type": "execute_result"
    }
   ],
   "source": [
    "df.dtypes"
   ]
  },
  {
   "cell_type": "code",
   "execution_count": 286,
   "metadata": {},
   "outputs": [],
   "source": [
    "# #Normality check\n",
    "# %matplotlib inline\n",
    "# #plt.hist(market['custAge'], bins = 'auto')\n",
    "# # plt.hist(market['campaign'], bins = 'auto')"
   ]
  },
  {
   "cell_type": "code",
   "execution_count": 201,
   "metadata": {},
   "outputs": [
    {
     "name": "stdout",
     "output_type": "stream",
     "text": [
      "Monday               0\n",
      "Saturday             0\n",
      "Sunday               0\n",
      "Thursday             0\n",
      "Tuesday              0\n",
      "Wednesday            0\n",
      "dist               680\n",
      "passenger_count    106\n",
      "fare_amount          0\n",
      "dtype: int64\n"
     ]
    },
    {
     "data": {
      "text/html": [
       "<div>\n",
       "<style scoped>\n",
       "    .dataframe tbody tr th:only-of-type {\n",
       "        vertical-align: middle;\n",
       "    }\n",
       "\n",
       "    .dataframe tbody tr th {\n",
       "        vertical-align: top;\n",
       "    }\n",
       "\n",
       "    .dataframe thead th {\n",
       "        text-align: right;\n",
       "    }\n",
       "</style>\n",
       "<table border=\"1\" class=\"dataframe\">\n",
       "  <thead>\n",
       "    <tr style=\"text-align: right;\">\n",
       "      <th></th>\n",
       "      <th>Monday</th>\n",
       "      <th>Saturday</th>\n",
       "      <th>Sunday</th>\n",
       "      <th>Thursday</th>\n",
       "      <th>Tuesday</th>\n",
       "      <th>Wednesday</th>\n",
       "      <th>dist</th>\n",
       "      <th>passenger_count</th>\n",
       "      <th>fare_amount</th>\n",
       "    </tr>\n",
       "  </thead>\n",
       "  <tbody>\n",
       "    <tr>\n",
       "      <th>0</th>\n",
       "      <td>1.0</td>\n",
       "      <td>0.0</td>\n",
       "      <td>0.0</td>\n",
       "      <td>0.0</td>\n",
       "      <td>0.0</td>\n",
       "      <td>0.0</td>\n",
       "      <td>0.129637</td>\n",
       "      <td>0.0</td>\n",
       "      <td>0.203259</td>\n",
       "    </tr>\n",
       "    <tr>\n",
       "      <th>1</th>\n",
       "      <td>0.0</td>\n",
       "      <td>0.0</td>\n",
       "      <td>0.0</td>\n",
       "      <td>0.0</td>\n",
       "      <td>1.0</td>\n",
       "      <td>0.0</td>\n",
       "      <td>NaN</td>\n",
       "      <td>0.0</td>\n",
       "      <td>0.764599</td>\n",
       "    </tr>\n",
       "    <tr>\n",
       "      <th>2</th>\n",
       "      <td>0.0</td>\n",
       "      <td>0.0</td>\n",
       "      <td>0.0</td>\n",
       "      <td>1.0</td>\n",
       "      <td>0.0</td>\n",
       "      <td>0.0</td>\n",
       "      <td>0.174762</td>\n",
       "      <td>0.2</td>\n",
       "      <td>0.257583</td>\n",
       "    </tr>\n",
       "    <tr>\n",
       "      <th>3</th>\n",
       "      <td>0.0</td>\n",
       "      <td>1.0</td>\n",
       "      <td>0.0</td>\n",
       "      <td>0.0</td>\n",
       "      <td>0.0</td>\n",
       "      <td>0.0</td>\n",
       "      <td>0.352082</td>\n",
       "      <td>0.0</td>\n",
       "      <td>0.348121</td>\n",
       "    </tr>\n",
       "    <tr>\n",
       "      <th>4</th>\n",
       "      <td>0.0</td>\n",
       "      <td>0.0</td>\n",
       "      <td>0.0</td>\n",
       "      <td>0.0</td>\n",
       "      <td>1.0</td>\n",
       "      <td>0.0</td>\n",
       "      <td>0.251442</td>\n",
       "      <td>0.0</td>\n",
       "      <td>0.239475</td>\n",
       "    </tr>\n",
       "  </tbody>\n",
       "</table>\n",
       "</div>"
      ],
      "text/plain": [
       "   Monday  Saturday  Sunday  Thursday  Tuesday  Wednesday      dist  \\\n",
       "0     1.0       0.0     0.0       0.0      0.0        0.0  0.129637   \n",
       "1     0.0       0.0     0.0       0.0      1.0        0.0       NaN   \n",
       "2     0.0       0.0     0.0       1.0      0.0        0.0  0.174762   \n",
       "3     0.0       1.0     0.0       0.0      0.0        0.0  0.352082   \n",
       "4     0.0       0.0     0.0       0.0      1.0        0.0  0.251442   \n",
       "\n",
       "   passenger_count  fare_amount  \n",
       "0              0.0     0.203259  \n",
       "1              0.0     0.764599  \n",
       "2              0.2     0.257583  \n",
       "3              0.0     0.348121  \n",
       "4              0.0     0.239475  "
      ]
     },
     "execution_count": 201,
     "metadata": {},
     "output_type": "execute_result"
    }
   ],
   "source": [
    "#Normalization\n",
    "from sklearn.preprocessing import MinMaxScaler\n",
    "X = df.iloc[:,:].copy()\n",
    "scaler = MinMaxScaler()\n",
    "scaled = scaler.fit_transform(X)\n",
    "X.iloc[:,:] = scaled\n",
    "# unscaled = scaler.inverse_transform(scaled)\n",
    "\n",
    "print(X.isnull().sum())\n",
    "X.head()"
   ]
  },
  {
   "cell_type": "code",
   "execution_count": 202,
   "metadata": {},
   "outputs": [
    {
     "data": {
      "text/plain": [
       "Monday             float64\n",
       "Saturday           float64\n",
       "Sunday             float64\n",
       "Thursday           float64\n",
       "Tuesday            float64\n",
       "Wednesday          float64\n",
       "dist               float64\n",
       "passenger_count    float64\n",
       "fare_amount        float64\n",
       "dtype: object"
      ]
     },
     "execution_count": 202,
     "metadata": {},
     "output_type": "execute_result"
    }
   ],
   "source": [
    "X.dtypes"
   ]
  },
  {
   "cell_type": "code",
   "execution_count": 181,
   "metadata": {},
   "outputs": [],
   "source": [
    "# #KNN imputation\n",
    "# #Assigning levels to the categories\n",
    "# lis = []\n",
    "# for i in range(X.shape[1]):\n",
    "#     #print(i)\n",
    "#     if(X.iloc[:,i].dtypes == 'object'):\n",
    "#         X.iloc[:,i] = pd.Categorical(X.iloc[:,i])\n",
    "# #         print('1',X.isnull().sum())\n",
    "#         #print(market.iloc[[1]])--check its use\n",
    "#         X.iloc[:,i] = X.iloc[:,i].cat.codes\n",
    "#         print('2',X.isnull().sum())\n",
    "#         X.iloc[:,i] = X.iloc[:,i].astype('object')\n",
    "# #         print('3',X.isnull().sum())\n",
    "       \n",
    "#         lis.append(X.columns[i])\n",
    "        \n",
    "# print(X.isnull().sum())\n",
    "# X.head()"
   ]
  },
  {
   "cell_type": "code",
   "execution_count": 203,
   "metadata": {
    "collapsed": true
   },
   "outputs": [
    {
     "name": "stdout",
     "output_type": "stream",
     "text": [
      "Imputing row 1/14621 with 0 missing, elapsed time: 27.227\n",
      "Imputing row 101/14621 with 0 missing, elapsed time: 27.228\n",
      "Imputing row 201/14621 with 0 missing, elapsed time: 27.229\n",
      "Imputing row 301/14621 with 0 missing, elapsed time: 27.230\n",
      "Imputing row 401/14621 with 0 missing, elapsed time: 27.230\n",
      "Imputing row 501/14621 with 1 missing, elapsed time: 27.231\n",
      "Imputing row 601/14621 with 0 missing, elapsed time: 27.232\n",
      "Imputing row 701/14621 with 0 missing, elapsed time: 27.233\n",
      "Imputing row 801/14621 with 0 missing, elapsed time: 27.234\n",
      "Imputing row 901/14621 with 0 missing, elapsed time: 27.235\n",
      "Imputing row 1001/14621 with 0 missing, elapsed time: 27.235\n",
      "Imputing row 1101/14621 with 0 missing, elapsed time: 27.236\n",
      "Imputing row 1201/14621 with 1 missing, elapsed time: 27.236\n",
      "Imputing row 1301/14621 with 0 missing, elapsed time: 27.237\n",
      "Imputing row 1401/14621 with 0 missing, elapsed time: 27.238\n",
      "Imputing row 1501/14621 with 1 missing, elapsed time: 27.239\n",
      "Imputing row 1601/14621 with 0 missing, elapsed time: 27.240\n",
      "Imputing row 1701/14621 with 0 missing, elapsed time: 27.241\n",
      "Imputing row 1801/14621 with 0 missing, elapsed time: 27.241\n",
      "Imputing row 1901/14621 with 0 missing, elapsed time: 27.242\n",
      "Imputing row 2001/14621 with 0 missing, elapsed time: 27.242\n",
      "Imputing row 2101/14621 with 0 missing, elapsed time: 27.243\n",
      "Imputing row 2201/14621 with 0 missing, elapsed time: 27.244\n",
      "Imputing row 2301/14621 with 0 missing, elapsed time: 27.244\n",
      "Imputing row 2401/14621 with 0 missing, elapsed time: 27.245\n",
      "Imputing row 2501/14621 with 0 missing, elapsed time: 27.245\n",
      "Imputing row 2601/14621 with 0 missing, elapsed time: 27.246\n",
      "Imputing row 2701/14621 with 1 missing, elapsed time: 27.247\n",
      "Imputing row 2801/14621 with 0 missing, elapsed time: 27.247\n",
      "Imputing row 2901/14621 with 0 missing, elapsed time: 27.248\n",
      "Imputing row 3001/14621 with 0 missing, elapsed time: 27.248\n",
      "Imputing row 3101/14621 with 0 missing, elapsed time: 27.249\n",
      "Imputing row 3201/14621 with 0 missing, elapsed time: 27.250\n",
      "Imputing row 3301/14621 with 0 missing, elapsed time: 27.251\n",
      "Imputing row 3401/14621 with 0 missing, elapsed time: 27.251\n",
      "Imputing row 3501/14621 with 0 missing, elapsed time: 27.252\n",
      "Imputing row 3601/14621 with 0 missing, elapsed time: 27.253\n",
      "Imputing row 3701/14621 with 0 missing, elapsed time: 27.253\n",
      "Imputing row 3801/14621 with 0 missing, elapsed time: 27.254\n",
      "Imputing row 3901/14621 with 0 missing, elapsed time: 27.254\n",
      "Imputing row 4001/14621 with 0 missing, elapsed time: 27.255\n",
      "Imputing row 4101/14621 with 0 missing, elapsed time: 27.256\n",
      "Imputing row 4201/14621 with 0 missing, elapsed time: 27.257\n",
      "Imputing row 4301/14621 with 0 missing, elapsed time: 27.258\n",
      "Imputing row 4401/14621 with 1 missing, elapsed time: 27.259\n",
      "Imputing row 4501/14621 with 1 missing, elapsed time: 27.260\n",
      "Imputing row 4601/14621 with 0 missing, elapsed time: 27.260\n",
      "Imputing row 4701/14621 with 0 missing, elapsed time: 27.261\n",
      "Imputing row 4801/14621 with 0 missing, elapsed time: 27.262\n",
      "Imputing row 4901/14621 with 0 missing, elapsed time: 27.262\n",
      "Imputing row 5001/14621 with 0 missing, elapsed time: 27.263\n",
      "Imputing row 5101/14621 with 0 missing, elapsed time: 27.263\n",
      "Imputing row 5201/14621 with 0 missing, elapsed time: 27.264\n",
      "Imputing row 5301/14621 with 0 missing, elapsed time: 27.265\n",
      "Imputing row 5401/14621 with 0 missing, elapsed time: 27.266\n",
      "Imputing row 5501/14621 with 0 missing, elapsed time: 27.266\n",
      "Imputing row 5601/14621 with 0 missing, elapsed time: 27.267\n",
      "Imputing row 5701/14621 with 0 missing, elapsed time: 27.267\n",
      "Imputing row 5801/14621 with 0 missing, elapsed time: 27.268\n",
      "Imputing row 5901/14621 with 0 missing, elapsed time: 27.269\n",
      "Imputing row 6001/14621 with 0 missing, elapsed time: 27.269\n",
      "Imputing row 6101/14621 with 0 missing, elapsed time: 27.270\n",
      "Imputing row 6201/14621 with 0 missing, elapsed time: 27.270\n",
      "Imputing row 6301/14621 with 1 missing, elapsed time: 27.271\n",
      "Imputing row 6401/14621 with 0 missing, elapsed time: 27.272\n",
      "Imputing row 6501/14621 with 0 missing, elapsed time: 27.273\n",
      "Imputing row 6601/14621 with 0 missing, elapsed time: 27.273\n",
      "Imputing row 6701/14621 with 0 missing, elapsed time: 27.274\n",
      "Imputing row 6801/14621 with 0 missing, elapsed time: 27.275\n",
      "Imputing row 6901/14621 with 0 missing, elapsed time: 27.275\n",
      "Imputing row 7001/14621 with 0 missing, elapsed time: 27.276\n",
      "Imputing row 7101/14621 with 0 missing, elapsed time: 27.277\n",
      "Imputing row 7201/14621 with 1 missing, elapsed time: 27.278\n",
      "Imputing row 7301/14621 with 0 missing, elapsed time: 27.278\n",
      "Imputing row 7401/14621 with 0 missing, elapsed time: 27.279\n",
      "Imputing row 7501/14621 with 0 missing, elapsed time: 27.280\n",
      "Imputing row 7601/14621 with 0 missing, elapsed time: 27.280\n",
      "Imputing row 7701/14621 with 0 missing, elapsed time: 27.281\n",
      "Imputing row 7801/14621 with 0 missing, elapsed time: 27.282\n",
      "Imputing row 7901/14621 with 0 missing, elapsed time: 27.283\n",
      "Imputing row 8001/14621 with 0 missing, elapsed time: 27.283\n",
      "Imputing row 8101/14621 with 0 missing, elapsed time: 27.284\n",
      "Imputing row 8201/14621 with 0 missing, elapsed time: 27.284\n",
      "Imputing row 8301/14621 with 0 missing, elapsed time: 27.285\n",
      "Imputing row 8401/14621 with 0 missing, elapsed time: 27.285\n",
      "Imputing row 8501/14621 with 0 missing, elapsed time: 27.286\n",
      "Imputing row 8601/14621 with 0 missing, elapsed time: 27.287\n",
      "Imputing row 8701/14621 with 0 missing, elapsed time: 27.287\n",
      "Imputing row 8801/14621 with 0 missing, elapsed time: 27.288\n",
      "Imputing row 8901/14621 with 0 missing, elapsed time: 27.288\n",
      "Imputing row 9001/14621 with 0 missing, elapsed time: 27.289\n",
      "Imputing row 9101/14621 with 0 missing, elapsed time: 27.290\n",
      "Imputing row 9201/14621 with 0 missing, elapsed time: 27.292\n",
      "Imputing row 9301/14621 with 0 missing, elapsed time: 27.294\n",
      "Imputing row 9401/14621 with 0 missing, elapsed time: 27.295\n",
      "Imputing row 9501/14621 with 1 missing, elapsed time: 27.296\n",
      "Imputing row 9601/14621 with 0 missing, elapsed time: 27.298\n",
      "Imputing row 9701/14621 with 0 missing, elapsed time: 27.299\n",
      "Imputing row 9801/14621 with 0 missing, elapsed time: 27.300\n",
      "Imputing row 9901/14621 with 0 missing, elapsed time: 27.302\n",
      "Imputing row 10001/14621 with 0 missing, elapsed time: 27.302\n",
      "Imputing row 10101/14621 with 0 missing, elapsed time: 27.303\n",
      "Imputing row 10201/14621 with 0 missing, elapsed time: 27.304\n",
      "Imputing row 10301/14621 with 0 missing, elapsed time: 27.305\n",
      "Imputing row 10401/14621 with 0 missing, elapsed time: 27.306\n",
      "Imputing row 10501/14621 with 0 missing, elapsed time: 27.307\n",
      "Imputing row 10601/14621 with 0 missing, elapsed time: 27.308\n",
      "Imputing row 10701/14621 with 0 missing, elapsed time: 27.309\n",
      "Imputing row 10801/14621 with 0 missing, elapsed time: 27.310\n",
      "Imputing row 10901/14621 with 0 missing, elapsed time: 27.311\n",
      "Imputing row 11001/14621 with 1 missing, elapsed time: 27.312\n",
      "Imputing row 11101/14621 with 0 missing, elapsed time: 27.312\n",
      "Imputing row 11201/14621 with 0 missing, elapsed time: 27.313\n",
      "Imputing row 11301/14621 with 0 missing, elapsed time: 27.314\n",
      "Imputing row 11401/14621 with 0 missing, elapsed time: 27.314\n",
      "Imputing row 11501/14621 with 0 missing, elapsed time: 27.315\n",
      "Imputing row 11601/14621 with 0 missing, elapsed time: 27.316\n",
      "Imputing row 11701/14621 with 0 missing, elapsed time: 27.316\n",
      "Imputing row 11801/14621 with 0 missing, elapsed time: 27.317\n",
      "Imputing row 11901/14621 with 0 missing, elapsed time: 27.318\n",
      "Imputing row 12001/14621 with 0 missing, elapsed time: 27.319\n",
      "Imputing row 12101/14621 with 0 missing, elapsed time: 27.319\n",
      "Imputing row 12201/14621 with 0 missing, elapsed time: 27.320\n",
      "Imputing row 12301/14621 with 0 missing, elapsed time: 27.321\n",
      "Imputing row 12401/14621 with 1 missing, elapsed time: 27.322\n",
      "Imputing row 12501/14621 with 0 missing, elapsed time: 27.324\n",
      "Imputing row 12601/14621 with 0 missing, elapsed time: 27.325\n",
      "Imputing row 12701/14621 with 0 missing, elapsed time: 27.326\n",
      "Imputing row 12801/14621 with 0 missing, elapsed time: 27.327\n",
      "Imputing row 12901/14621 with 0 missing, elapsed time: 27.328\n",
      "Imputing row 13001/14621 with 0 missing, elapsed time: 27.329\n",
      "Imputing row 13101/14621 with 0 missing, elapsed time: 27.330\n",
      "Imputing row 13201/14621 with 0 missing, elapsed time: 27.331\n",
      "Imputing row 13301/14621 with 0 missing, elapsed time: 27.332\n",
      "Imputing row 13401/14621 with 0 missing, elapsed time: 27.333\n",
      "Imputing row 13501/14621 with 0 missing, elapsed time: 27.334\n",
      "Imputing row 13601/14621 with 1 missing, elapsed time: 27.335\n",
      "Imputing row 13701/14621 with 0 missing, elapsed time: 27.336\n",
      "Imputing row 13801/14621 with 0 missing, elapsed time: 27.336\n",
      "Imputing row 13901/14621 with 0 missing, elapsed time: 27.337\n",
      "Imputing row 14001/14621 with 0 missing, elapsed time: 27.338\n",
      "Imputing row 14101/14621 with 0 missing, elapsed time: 27.339\n",
      "Imputing row 14201/14621 with 1 missing, elapsed time: 27.340\n",
      "Imputing row 14301/14621 with 0 missing, elapsed time: 27.341\n",
      "Imputing row 14401/14621 with 0 missing, elapsed time: 27.342\n",
      "Imputing row 14501/14621 with 0 missing, elapsed time: 27.343\n",
      "Imputing row 14601/14621 with 0 missing, elapsed time: 27.344\n"
     ]
    }
   ],
   "source": [
    "#Apply KNN imputation algorithm\n",
    "X = pd.DataFrame(KNN(k = 3).fit_transform(X), columns = X.columns);"
   ]
  },
  {
   "cell_type": "code",
   "execution_count": 204,
   "metadata": {},
   "outputs": [
    {
     "data": {
      "text/plain": [
       "Monday             0\n",
       "Saturday           0\n",
       "Sunday             0\n",
       "Thursday           0\n",
       "Tuesday            0\n",
       "Wednesday          0\n",
       "dist               0\n",
       "passenger_count    0\n",
       "fare_amount        0\n",
       "dtype: int64"
      ]
     },
     "execution_count": 204,
     "metadata": {},
     "output_type": "execute_result"
    }
   ],
   "source": [
    "X.isnull().sum()"
   ]
  },
  {
   "cell_type": "code",
   "execution_count": 205,
   "metadata": {},
   "outputs": [
    {
     "data": {
      "text/plain": [
       "Monday               0\n",
       "Saturday             0\n",
       "Sunday               0\n",
       "Thursday             0\n",
       "Tuesday              0\n",
       "Wednesday            0\n",
       "dist               680\n",
       "passenger_count    106\n",
       "fare_amount          0\n",
       "dtype: int64"
      ]
     },
     "execution_count": 205,
     "metadata": {},
     "output_type": "execute_result"
    }
   ],
   "source": [
    "df.isnull().sum()"
   ]
  },
  {
   "cell_type": "code",
   "execution_count": 206,
   "metadata": {},
   "outputs": [],
   "source": [
    "# Unscaling the dataset\n",
    "scaled = X.iloc[:,:]\n",
    "unscaled = scaler.inverse_transform(scaled)\n",
    "X.iloc[:,:] = unscaled"
   ]
  },
  {
   "cell_type": "code",
   "execution_count": 54,
   "metadata": {},
   "outputs": [],
   "source": [
    "# # To check if X equals df\n",
    "# sum = 0\n",
    "# for i in range(len(df)):\n",
    "#     if (X.loc[i,'fare_amount'] != df.loc[i,'fare_amount']):\n",
    "#         print(i)\n",
    "#         print(X.loc[i,'fare_amount'])\n",
    "#         print(df.loc[i,'fare_amount'])\n",
    "# print('exited')"
   ]
  },
  {
   "cell_type": "code",
   "execution_count": 207,
   "metadata": {},
   "outputs": [],
   "source": [
    "df.iloc[:,:-1] = X.iloc[:,:-1].copy()\n",
    "df.isnull().sum()\n",
    "\n",
    "#Save result\n",
    "df.to_csv('CabFare_noMiss.csv', index = False)"
   ]
  },
  {
   "cell_type": "markdown",
   "metadata": {},
   "source": [
    "# Sampling"
   ]
  },
  {
   "cell_type": "code",
   "execution_count": 23,
   "metadata": {},
   "outputs": [],
   "source": [
    "df = pd.read_csv('CabFare_noMiss.csv')"
   ]
  },
  {
   "cell_type": "code",
   "execution_count": 7,
   "metadata": {},
   "outputs": [],
   "source": [
    "# df[df['passenger_count'] == 0]\n",
    "# df.dtypes"
   ]
  },
  {
   "cell_type": "code",
   "execution_count": 24,
   "metadata": {},
   "outputs": [],
   "source": [
    "# Split the train and test data\n",
    "from sklearn.model_selection import train_test_split as tts\n",
    "X = df.values[:, :-1]\n",
    "Y = df.values[:, 8]\n",
    "\n",
    "# Scale the features\n",
    "from sklearn.preprocessing import MinMaxScaler\n",
    "scaler = MinMaxScaler()\n",
    "X = scaler.fit_transform(X)\n",
    "\n",
    "X_train, X_test, Y_train, Y_test = tts(X, Y, test_size = 0.2, random_state = 0)"
   ]
  },
  {
   "cell_type": "code",
   "execution_count": 25,
   "metadata": {},
   "outputs": [
    {
     "data": {
      "text/html": [
       "<div>\n",
       "<style scoped>\n",
       "    .dataframe tbody tr th:only-of-type {\n",
       "        vertical-align: middle;\n",
       "    }\n",
       "\n",
       "    .dataframe tbody tr th {\n",
       "        vertical-align: top;\n",
       "    }\n",
       "\n",
       "    .dataframe thead th {\n",
       "        text-align: right;\n",
       "    }\n",
       "</style>\n",
       "<table border=\"1\" class=\"dataframe\">\n",
       "  <thead>\n",
       "    <tr style=\"text-align: right;\">\n",
       "      <th></th>\n",
       "      <th>0</th>\n",
       "      <th>1</th>\n",
       "      <th>2</th>\n",
       "      <th>3</th>\n",
       "      <th>4</th>\n",
       "      <th>5</th>\n",
       "      <th>6</th>\n",
       "      <th>7</th>\n",
       "    </tr>\n",
       "  </thead>\n",
       "  <tbody>\n",
       "    <tr>\n",
       "      <th>count</th>\n",
       "      <td>14621.000000</td>\n",
       "      <td>14621.000000</td>\n",
       "      <td>14621.000000</td>\n",
       "      <td>14621.000000</td>\n",
       "      <td>14621.000000</td>\n",
       "      <td>14621.000000</td>\n",
       "      <td>14621.000000</td>\n",
       "      <td>14621.000000</td>\n",
       "    </tr>\n",
       "    <tr>\n",
       "      <th>mean</th>\n",
       "      <td>0.130976</td>\n",
       "      <td>0.153888</td>\n",
       "      <td>0.132686</td>\n",
       "      <td>0.144313</td>\n",
       "      <td>0.142945</td>\n",
       "      <td>0.146638</td>\n",
       "      <td>0.308461</td>\n",
       "      <td>0.129135</td>\n",
       "    </tr>\n",
       "    <tr>\n",
       "      <th>std</th>\n",
       "      <td>0.337386</td>\n",
       "      <td>0.360854</td>\n",
       "      <td>0.339247</td>\n",
       "      <td>0.351419</td>\n",
       "      <td>0.350029</td>\n",
       "      <td>0.353757</td>\n",
       "      <td>0.206351</td>\n",
       "      <td>0.252776</td>\n",
       "    </tr>\n",
       "    <tr>\n",
       "      <th>min</th>\n",
       "      <td>0.000000</td>\n",
       "      <td>0.000000</td>\n",
       "      <td>0.000000</td>\n",
       "      <td>0.000000</td>\n",
       "      <td>0.000000</td>\n",
       "      <td>0.000000</td>\n",
       "      <td>0.000000</td>\n",
       "      <td>0.000000</td>\n",
       "    </tr>\n",
       "    <tr>\n",
       "      <th>25%</th>\n",
       "      <td>0.000000</td>\n",
       "      <td>0.000000</td>\n",
       "      <td>0.000000</td>\n",
       "      <td>0.000000</td>\n",
       "      <td>0.000000</td>\n",
       "      <td>0.000000</td>\n",
       "      <td>0.152605</td>\n",
       "      <td>0.000000</td>\n",
       "    </tr>\n",
       "    <tr>\n",
       "      <th>50%</th>\n",
       "      <td>0.000000</td>\n",
       "      <td>0.000000</td>\n",
       "      <td>0.000000</td>\n",
       "      <td>0.000000</td>\n",
       "      <td>0.000000</td>\n",
       "      <td>0.000000</td>\n",
       "      <td>0.250922</td>\n",
       "      <td>0.000000</td>\n",
       "    </tr>\n",
       "    <tr>\n",
       "      <th>75%</th>\n",
       "      <td>0.000000</td>\n",
       "      <td>0.000000</td>\n",
       "      <td>0.000000</td>\n",
       "      <td>0.000000</td>\n",
       "      <td>0.000000</td>\n",
       "      <td>0.000000</td>\n",
       "      <td>0.412615</td>\n",
       "      <td>0.200000</td>\n",
       "    </tr>\n",
       "    <tr>\n",
       "      <th>max</th>\n",
       "      <td>1.000000</td>\n",
       "      <td>1.000000</td>\n",
       "      <td>1.000000</td>\n",
       "      <td>1.000000</td>\n",
       "      <td>1.000000</td>\n",
       "      <td>1.000000</td>\n",
       "      <td>1.000000</td>\n",
       "      <td>1.000000</td>\n",
       "    </tr>\n",
       "  </tbody>\n",
       "</table>\n",
       "</div>"
      ],
      "text/plain": [
       "                  0             1             2             3             4  \\\n",
       "count  14621.000000  14621.000000  14621.000000  14621.000000  14621.000000   \n",
       "mean       0.130976      0.153888      0.132686      0.144313      0.142945   \n",
       "std        0.337386      0.360854      0.339247      0.351419      0.350029   \n",
       "min        0.000000      0.000000      0.000000      0.000000      0.000000   \n",
       "25%        0.000000      0.000000      0.000000      0.000000      0.000000   \n",
       "50%        0.000000      0.000000      0.000000      0.000000      0.000000   \n",
       "75%        0.000000      0.000000      0.000000      0.000000      0.000000   \n",
       "max        1.000000      1.000000      1.000000      1.000000      1.000000   \n",
       "\n",
       "                  5             6             7  \n",
       "count  14621.000000  14621.000000  14621.000000  \n",
       "mean       0.146638      0.308461      0.129135  \n",
       "std        0.353757      0.206351      0.252776  \n",
       "min        0.000000      0.000000      0.000000  \n",
       "25%        0.000000      0.152605      0.000000  \n",
       "50%        0.000000      0.250922      0.000000  \n",
       "75%        0.000000      0.412615      0.200000  \n",
       "max        1.000000      1.000000      1.000000  "
      ]
     },
     "execution_count": 25,
     "metadata": {},
     "output_type": "execute_result"
    }
   ],
   "source": [
    "pd.DataFrame(X).describe()"
   ]
  },
  {
   "cell_type": "code",
   "execution_count": 26,
   "metadata": {},
   "outputs": [
    {
     "name": "stdout",
     "output_type": "stream",
     "text": [
      "[-4.93019213 -5.80829571 -5.16201658 -5.76050892 -4.92554502 -5.19538718\n",
      " -4.8784798  -5.07406115 -6.04362322 -5.03696471]\n"
     ]
    }
   ],
   "source": [
    "from sklearn.linear_model import LinearRegression\n",
    "from sklearn.model_selection import cross_val_score\n",
    "\n",
    "# 10-fold cross-validation with all three features\n",
    "lm = LinearRegression()\n",
    "scores = cross_val_score(lm, X_train, Y_train, cv=10, scoring='neg_mean_squared_error')\n",
    "print(scores)"
   ]
  },
  {
   "cell_type": "code",
   "execution_count": null,
   "metadata": {},
   "outputs": [],
   "source": [
    "# # create a Python list of three feature names\n",
    "# feature_cols = ['TV', 'Radio', 'Newspaper']\n",
    "\n",
    "# # use the list to select a subset of the DataFrame (X)\n",
    "# X = data[feature_cols]\n",
    "\n",
    "# # select the Sales column as the response (y)\n",
    "# y = data.Sales"
   ]
  },
  {
   "cell_type": "code",
   "execution_count": 27,
   "metadata": {},
   "outputs": [
    {
     "name": "stdout",
     "output_type": "stream",
     "text": [
      "[4.93019213 5.80829571 5.16201658 5.76050892 4.92554502 5.19538718\n",
      " 4.8784798  5.07406115 6.04362322 5.03696471]\n"
     ]
    }
   ],
   "source": [
    "# fix the sign of MSE scores\n",
    "mse_scores = -scores\n",
    "print(mse_scores)"
   ]
  },
  {
   "cell_type": "code",
   "execution_count": 28,
   "metadata": {},
   "outputs": [
    {
     "name": "stdout",
     "output_type": "stream",
     "text": [
      "[2.2204036  2.4100406  2.27200717 2.40010602 2.21935689 2.2793392\n",
      " 2.2087281  2.25256768 2.45837817 2.24431832]\n"
     ]
    }
   ],
   "source": [
    "# convert from MSE to RMSE\n",
    "rmse_scores = np.sqrt(mse_scores)\n",
    "print(rmse_scores)"
   ]
  },
  {
   "cell_type": "code",
   "execution_count": 29,
   "metadata": {},
   "outputs": [
    {
     "name": "stdout",
     "output_type": "stream",
     "text": [
      "2.2965245746339695\n"
     ]
    }
   ],
   "source": [
    "# calculate the average RMSE\n",
    "print(rmse_scores.mean())"
   ]
  },
  {
   "cell_type": "code",
   "execution_count": 31,
   "metadata": {},
   "outputs": [
    {
     "data": {
      "text/plain": [
       "2.349224596148728"
      ]
     },
     "execution_count": 31,
     "metadata": {},
     "output_type": "execute_result"
    }
   ],
   "source": [
    "lm.fit(X_train, Y_train)\n",
    "Y_pred = lm.predict(X_test)\n",
    "\n",
    "from sklearn.metrics import mean_squared_error\n",
    "mean = mean_squared_error(Y_test, Y_pred) \n",
    "rmse = np.sqrt(mean)\n",
    "rmse"
   ]
  },
  {
   "cell_type": "code",
   "execution_count": null,
   "metadata": {},
   "outputs": [],
   "source": [
    "# # 10-fold cross-validation with two features (excluding Newspaper)\n",
    "# feature_cols = ['TV', 'Radio']\n",
    "# X = data[feature_cols]\n",
    "# print(np.sqrt(-cross_val_score(lm, X, y, cv=10, scoring='neg_mean_squared_error')).mean())"
   ]
  },
  {
   "cell_type": "code",
   "execution_count": 32,
   "metadata": {},
   "outputs": [
    {
     "name": "stdout",
     "output_type": "stream",
     "text": [
      "[-6.02851785 -6.82801786 -6.12441946 -7.06041804 -6.3829852  -6.40703049\n",
      " -6.16950498 -6.22594124 -7.48030395 -6.16554458]\n"
     ]
    }
   ],
   "source": [
    "# Random forest\n",
    "from sklearn.ensemble import RandomForestRegressor\n",
    "RF = RandomForestRegressor(n_estimators = 100, random_state = 0)\n",
    "scores = cross_val_score(RF, X_train, Y_train, cv = 10, scoring = 'neg_mean_squared_error')\n",
    "print(scores)"
   ]
  },
  {
   "cell_type": "code",
   "execution_count": 34,
   "metadata": {},
   "outputs": [
    {
     "name": "stdout",
     "output_type": "stream",
     "text": [
      "[6.02851785 6.82801786 6.12441946 7.06041804 6.3829852  6.40703049\n",
      " 6.16950498 6.22594124 7.48030395 6.16554458]\n",
      "[2.45530402 2.61304762 2.47475644 2.65714472 2.52645705 2.53121127\n",
      " 2.48384882 2.49518361 2.73501443 2.48305147]\n",
      "2.5455019447873957\n"
     ]
    }
   ],
   "source": [
    "# fix the sign of MSE scores\n",
    "mse_scores = -scores\n",
    "print(mse_scores)\n",
    "\n",
    "# convert from MSE to RMSE\n",
    "rmse_scores = np.sqrt(mse_scores)\n",
    "print(rmse_scores)\n",
    "\n",
    "# calculate the average RMSE\n",
    "print(rmse_scores.mean())"
   ]
  },
  {
   "cell_type": "code",
   "execution_count": 35,
   "metadata": {},
   "outputs": [
    {
     "data": {
      "text/plain": [
       "2.5413840073193015"
      ]
     },
     "execution_count": 35,
     "metadata": {},
     "output_type": "execute_result"
    }
   ],
   "source": [
    "RF.fit(X_train, Y_train)\n",
    "Y_pred = RF.predict(X_test)\n",
    "\n",
    "from sklearn.metrics import mean_squared_error\n",
    "mean = mean_squared_error(Y_test, Y_pred) \n",
    "rmse = np.sqrt(mean)\n",
    "rmse"
   ]
  },
  {
   "cell_type": "code",
   "execution_count": 36,
   "metadata": {},
   "outputs": [
    {
     "name": "stdout",
     "output_type": "stream",
     "text": [
      "[23:44:33] WARNING: C:/Jenkins/workspace/xgboost-win64_release_0.90/src/objective/regression_obj.cu:152: reg:linear is now deprecated in favor of reg:squarederror.\n",
      "[23:44:35] WARNING: C:/Jenkins/workspace/xgboost-win64_release_0.90/src/objective/regression_obj.cu:152: reg:linear is now deprecated in favor of reg:squarederror.\n",
      "[23:44:35] WARNING: C:/Jenkins/workspace/xgboost-win64_release_0.90/src/objective/regression_obj.cu:152: reg:linear is now deprecated in favor of reg:squarederror.\n",
      "[23:44:35] WARNING: C:/Jenkins/workspace/xgboost-win64_release_0.90/src/objective/regression_obj.cu:152: reg:linear is now deprecated in favor of reg:squarederror.\n",
      "[23:44:36] WARNING: C:/Jenkins/workspace/xgboost-win64_release_0.90/src/objective/regression_obj.cu:152: reg:linear is now deprecated in favor of reg:squarederror.\n",
      "[23:44:36] WARNING: C:/Jenkins/workspace/xgboost-win64_release_0.90/src/objective/regression_obj.cu:152: reg:linear is now deprecated in favor of reg:squarederror.\n",
      "[23:44:37] WARNING: C:/Jenkins/workspace/xgboost-win64_release_0.90/src/objective/regression_obj.cu:152: reg:linear is now deprecated in favor of reg:squarederror.\n",
      "[23:44:37] WARNING: C:/Jenkins/workspace/xgboost-win64_release_0.90/src/objective/regression_obj.cu:152: reg:linear is now deprecated in favor of reg:squarederror.\n",
      "[23:44:38] WARNING: C:/Jenkins/workspace/xgboost-win64_release_0.90/src/objective/regression_obj.cu:152: reg:linear is now deprecated in favor of reg:squarederror.\n",
      "[23:44:38] WARNING: C:/Jenkins/workspace/xgboost-win64_release_0.90/src/objective/regression_obj.cu:152: reg:linear is now deprecated in favor of reg:squarederror.\n",
      "[-4.85134998 -5.63242057 -5.06145249 -5.71886136 -5.04381639 -5.26250932\n",
      " -4.81349648 -5.11038739 -6.00524756 -5.03180985]\n"
     ]
    }
   ],
   "source": [
    "# Boosting\n",
    "import xgboost as xgb\n",
    "xg_reg = xgb.XGBRegressor()\n",
    "scores = cross_val_score(xg_reg, X_train, Y_train, cv = 10, scoring = 'neg_mean_squared_error')\n",
    "print(scores)"
   ]
  },
  {
   "cell_type": "code",
   "execution_count": 37,
   "metadata": {},
   "outputs": [
    {
     "name": "stdout",
     "output_type": "stream",
     "text": [
      "[4.85134998 5.63242057 5.06145249 5.71886136 5.04381639 5.26250932\n",
      " 4.81349648 5.11038739 6.00524756 5.03180985]\n",
      "[2.20257803 2.37327212 2.24976721 2.39141409 2.24584425 2.29401598\n",
      " 2.1939682  2.26061659 2.45056066 2.2431696 ]\n",
      "2.290520674357049\n"
     ]
    }
   ],
   "source": [
    "# fix the sign of MSE scores\n",
    "mse_scores = -scores\n",
    "print(mse_scores)\n",
    "\n",
    "# convert from MSE to RMSE\n",
    "rmse_scores = np.sqrt(mse_scores)\n",
    "print(rmse_scores)\n",
    "\n",
    "# calculate the average RMSE\n",
    "print(rmse_scores.mean())"
   ]
  },
  {
   "cell_type": "code",
   "execution_count": 38,
   "metadata": {},
   "outputs": [
    {
     "name": "stdout",
     "output_type": "stream",
     "text": [
      "[23:45:56] WARNING: C:/Jenkins/workspace/xgboost-win64_release_0.90/src/objective/regression_obj.cu:152: reg:linear is now deprecated in favor of reg:squarederror.\n"
     ]
    },
    {
     "data": {
      "text/plain": [
       "2.3541871486767088"
      ]
     },
     "execution_count": 38,
     "metadata": {},
     "output_type": "execute_result"
    }
   ],
   "source": [
    "xg_reg.fit(X_train, Y_train)\n",
    "Y_pred = xg_reg.predict(X_test)\n",
    "\n",
    "from sklearn.metrics import mean_squared_error\n",
    "mean = mean_squared_error(Y_test, Y_pred) \n",
    "rmse = np.sqrt(mean)\n",
    "rmse"
   ]
  }
 ],
 "metadata": {
  "kernelspec": {
   "display_name": "Python 3",
   "language": "python",
   "name": "python3"
  },
  "language_info": {
   "codemirror_mode": {
    "name": "ipython",
    "version": 3
   },
   "file_extension": ".py",
   "mimetype": "text/x-python",
   "name": "python",
   "nbconvert_exporter": "python",
   "pygments_lexer": "ipython3",
   "version": "3.6.8"
  }
 },
 "nbformat": 4,
 "nbformat_minor": 2
}
